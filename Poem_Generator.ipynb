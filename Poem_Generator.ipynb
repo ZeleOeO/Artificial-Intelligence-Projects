{
  "nbformat": 4,
  "nbformat_minor": 0,
  "metadata": {
    "colab": {
      "provenance": [],
      "authorship_tag": "ABX9TyMutn7jdx+1RTAZqbvSeNcu",
      "include_colab_link": true
    },
    "kernelspec": {
      "name": "python3",
      "display_name": "Python 3"
    },
    "language_info": {
      "name": "python"
    },
    "accelerator": "GPU",
    "gpuClass": "standard"
  },
  "cells": [
    {
      "cell_type": "markdown",
      "metadata": {
        "id": "view-in-github",
        "colab_type": "text"
      },
      "source": [
        "<a href=\"https://colab.research.google.com/github/ZeleOeO/Artificial-Intelligence-Projects/blob/main/Poem_Generator.ipynb\" target=\"_parent\"><img src=\"https://colab.research.google.com/assets/colab-badge.svg\" alt=\"Open In Colab\"/></a>"
      ]
    },
    {
      "cell_type": "code",
      "execution_count": 1,
      "metadata": {
        "id": "g4oRSXEH6KyX"
      },
      "outputs": [],
      "source": [
        "from tensorflow import keras\n",
        "from keras.preprocessing.text import Tokenizer\n",
        "from keras.utils import pad_sequences\n",
        "import numpy as np"
      ]
    },
    {
      "cell_type": "code",
      "source": [
        "!wget --no-check-certificate \\\n",
        "    https://storage.googleapis.com/learning-datasets/irish-lyrics-eof.txt \\\n",
        "    -O /tmp/irish-lyrics-eof.txt"
      ],
      "metadata": {
        "colab": {
          "base_uri": "https://localhost:8080/"
        },
        "id": "SuYZIrGZ8DfJ",
        "outputId": "34451bf5-66e3-4e3c-9d93-f8f71d72ac21"
      },
      "execution_count": 2,
      "outputs": [
        {
          "output_type": "stream",
          "name": "stdout",
          "text": [
            "--2023-03-30 10:32:19--  https://storage.googleapis.com/learning-datasets/irish-lyrics-eof.txt\n",
            "Resolving storage.googleapis.com (storage.googleapis.com)... 173.194.79.128, 108.177.119.128, 108.177.127.128, ...\n",
            "Connecting to storage.googleapis.com (storage.googleapis.com)|173.194.79.128|:443... connected.\n",
            "HTTP request sent, awaiting response... 200 OK\n",
            "Length: 68970 (67K) [text/plain]\n",
            "Saving to: ‘/tmp/irish-lyrics-eof.txt’\n",
            "\n",
            "/tmp/irish-lyrics-e 100%[===================>]  67.35K  --.-KB/s    in 0.09s   \n",
            "\n",
            "2023-03-30 10:32:19 (735 KB/s) - ‘/tmp/irish-lyrics-eof.txt’ saved [68970/68970]\n",
            "\n"
          ]
        }
      ]
    },
    {
      "cell_type": "code",
      "source": [
        "tokenizer = Tokenizer()\n",
        "\n",
        "data = open(\"/tmp/irish-lyrics-eof.txt\").read()\n",
        "corpus = data.lower().split(\"\\n\")\n",
        "\n",
        "tokenizer.fit_on_texts(corpus)\n",
        "total_words = len(tokenizer.word_index)+1\n"
      ],
      "metadata": {
        "id": "-GouVPhH6nTe"
      },
      "execution_count": 3,
      "outputs": []
    },
    {
      "cell_type": "code",
      "source": [
        "input_sentences = []\n",
        "\n",
        "#[51, 12, 96, 1217, 48, 2, 69]\n",
        "\n",
        "for line in corpus:\n",
        "  token_list = tokenizer.texts_to_sequences([line])[0]\n",
        "  for i in range(1, len(token_list)):\n",
        "    n_gram_sequence = token_list[:i+1]\n",
        "    input_sentences.append(n_gram_sequence)"
      ],
      "metadata": {
        "id": "o6dWx8xmhyKT"
      },
      "execution_count": 4,
      "outputs": []
    },
    {
      "cell_type": "code",
      "source": [
        "max_len = max([len(x) for x in input_sentences])"
      ],
      "metadata": {
        "id": "Ucr-q-GAioJR"
      },
      "execution_count": 5,
      "outputs": []
    },
    {
      "cell_type": "code",
      "source": [
        "input_sequences = np.array(pad_sequences(input_sentences, maxlen=max_len, padding=\"pre\"))"
      ],
      "metadata": {
        "id": "UZGnbqbfn_kb"
      },
      "execution_count": 6,
      "outputs": []
    },
    {
      "cell_type": "code",
      "source": [
        "xs = input_sequences[:,:-1]\n",
        "labels = input_sequences[:,-1]\n"
      ],
      "metadata": {
        "id": "C32myZg-rpr8"
      },
      "execution_count": 7,
      "outputs": []
    },
    {
      "cell_type": "code",
      "source": [
        "ys = keras.utils.to_categorical(labels, num_classes=total_words)"
      ],
      "metadata": {
        "id": "dErt-cM7sNML"
      },
      "execution_count": 8,
      "outputs": []
    },
    {
      "cell_type": "code",
      "source": [
        "model = keras.Sequential([\n",
        "    keras.layers.Embedding(total_words, 240, input_length=max_len-1),\n",
        "    keras.layers.Bidirectional(keras.layers.LSTM(150)),\n",
        "    keras.layers.Dense(total_words, activation=\"softmax\")\n",
        "])\n",
        "\n",
        "adam = keras.optimizers.legacy.Adam(lr=0.01)\n",
        "model.compile(loss=\"categorical_crossentropy\", optimizer=adam, metrics=[\"accuracy\"])\n",
        "\n",
        "model.fit(xs, ys, epochs=100, verbose=1)"
      ],
      "metadata": {
        "colab": {
          "base_uri": "https://localhost:8080/"
        },
        "id": "EHrPCJOCtWeq",
        "outputId": "7e3d770c-0a4b-4877-bfd4-96369236b6ff"
      },
      "execution_count": 9,
      "outputs": [
        {
          "output_type": "stream",
          "name": "stderr",
          "text": [
            "/usr/local/lib/python3.9/dist-packages/keras/optimizers/optimizer_v2/adam.py:117: UserWarning: The `lr` argument is deprecated, use `learning_rate` instead.\n",
            "  super().__init__(name, **kwargs)\n"
          ]
        },
        {
          "output_type": "stream",
          "name": "stdout",
          "text": [
            "Epoch 1/100\n",
            "377/377 [==============================] - 9s 7ms/step - loss: 6.6584 - accuracy: 0.0748\n",
            "Epoch 2/100\n",
            "377/377 [==============================] - 3s 8ms/step - loss: 5.6977 - accuracy: 0.1197\n",
            "Epoch 3/100\n",
            "377/377 [==============================] - 3s 7ms/step - loss: 4.9912 - accuracy: 0.1641\n",
            "Epoch 4/100\n",
            "377/377 [==============================] - 2s 7ms/step - loss: 4.6764 - accuracy: 0.1947\n",
            "Epoch 5/100\n",
            "377/377 [==============================] - 2s 7ms/step - loss: 3.9113 - accuracy: 0.2546\n",
            "Epoch 6/100\n",
            "377/377 [==============================] - 3s 9ms/step - loss: 3.0879 - accuracy: 0.3439\n",
            "Epoch 7/100\n",
            "377/377 [==============================] - 3s 7ms/step - loss: 2.6391 - accuracy: 0.4120\n",
            "Epoch 8/100\n",
            "377/377 [==============================] - 3s 8ms/step - loss: 2.2940 - accuracy: 0.4699\n",
            "Epoch 9/100\n",
            "377/377 [==============================] - 3s 7ms/step - loss: 2.0213 - accuracy: 0.5188\n",
            "Epoch 10/100\n",
            "377/377 [==============================] - 3s 7ms/step - loss: 1.7930 - accuracy: 0.5694\n",
            "Epoch 11/100\n",
            "377/377 [==============================] - 3s 8ms/step - loss: 1.6336 - accuracy: 0.6014\n",
            "Epoch 12/100\n",
            "377/377 [==============================] - 2s 7ms/step - loss: 1.6330 - accuracy: 0.6023\n",
            "Epoch 13/100\n",
            "377/377 [==============================] - 3s 7ms/step - loss: 1.6270 - accuracy: 0.6056\n",
            "Epoch 14/100\n",
            "377/377 [==============================] - 3s 7ms/step - loss: 1.6465 - accuracy: 0.5995\n",
            "Epoch 15/100\n",
            "377/377 [==============================] - 3s 8ms/step - loss: 1.6865 - accuracy: 0.5891\n",
            "Epoch 16/100\n",
            "377/377 [==============================] - 3s 7ms/step - loss: 1.5949 - accuracy: 0.6088\n",
            "Epoch 17/100\n",
            "377/377 [==============================] - 3s 7ms/step - loss: 1.4718 - accuracy: 0.6410\n",
            "Epoch 18/100\n",
            "377/377 [==============================] - 3s 7ms/step - loss: 1.4706 - accuracy: 0.6430\n",
            "Epoch 19/100\n",
            "377/377 [==============================] - 3s 7ms/step - loss: 1.3422 - accuracy: 0.6665\n",
            "Epoch 20/100\n",
            "377/377 [==============================] - 3s 9ms/step - loss: 1.3019 - accuracy: 0.6755\n",
            "Epoch 21/100\n",
            "377/377 [==============================] - 3s 7ms/step - loss: 1.2366 - accuracy: 0.6927\n",
            "Epoch 22/100\n",
            "377/377 [==============================] - 3s 7ms/step - loss: 1.2218 - accuracy: 0.6945\n",
            "Epoch 23/100\n",
            "377/377 [==============================] - 3s 7ms/step - loss: 1.2185 - accuracy: 0.6950\n",
            "Epoch 24/100\n",
            "377/377 [==============================] - 3s 8ms/step - loss: 1.2470 - accuracy: 0.6901\n",
            "Epoch 25/100\n",
            "377/377 [==============================] - 3s 8ms/step - loss: 1.3732 - accuracy: 0.6704\n",
            "Epoch 26/100\n",
            "377/377 [==============================] - 2s 7ms/step - loss: 1.6078 - accuracy: 0.6205\n",
            "Epoch 27/100\n",
            "377/377 [==============================] - 2s 7ms/step - loss: 1.5524 - accuracy: 0.6246\n",
            "Epoch 28/100\n",
            "377/377 [==============================] - 3s 7ms/step - loss: 1.4383 - accuracy: 0.6526\n",
            "Epoch 29/100\n",
            "377/377 [==============================] - 3s 9ms/step - loss: 1.3277 - accuracy: 0.6759\n",
            "Epoch 30/100\n",
            "377/377 [==============================] - 3s 7ms/step - loss: 1.2403 - accuracy: 0.6955\n",
            "Epoch 31/100\n",
            "377/377 [==============================] - 3s 7ms/step - loss: 1.1569 - accuracy: 0.7148\n",
            "Epoch 32/100\n",
            "377/377 [==============================] - 2s 7ms/step - loss: 1.1449 - accuracy: 0.7211\n",
            "Epoch 33/100\n",
            "377/377 [==============================] - 3s 7ms/step - loss: 1.1499 - accuracy: 0.7167\n",
            "Epoch 34/100\n",
            "377/377 [==============================] - 3s 8ms/step - loss: 1.2142 - accuracy: 0.7073\n",
            "Epoch 35/100\n",
            "377/377 [==============================] - 3s 7ms/step - loss: 1.2331 - accuracy: 0.7020\n",
            "Epoch 36/100\n",
            "377/377 [==============================] - 2s 7ms/step - loss: 1.2951 - accuracy: 0.6836\n",
            "Epoch 37/100\n",
            "377/377 [==============================] - 2s 7ms/step - loss: 1.3101 - accuracy: 0.6811\n",
            "Epoch 38/100\n",
            "377/377 [==============================] - 3s 8ms/step - loss: 1.3034 - accuracy: 0.6815\n",
            "Epoch 39/100\n",
            "377/377 [==============================] - 3s 7ms/step - loss: 1.2579 - accuracy: 0.6893\n",
            "Epoch 40/100\n",
            "377/377 [==============================] - 2s 7ms/step - loss: 1.2000 - accuracy: 0.7083\n",
            "Epoch 41/100\n",
            "377/377 [==============================] - 3s 7ms/step - loss: 1.1692 - accuracy: 0.7137\n",
            "Epoch 42/100\n",
            "377/377 [==============================] - 3s 7ms/step - loss: 1.1195 - accuracy: 0.7264\n",
            "Epoch 43/100\n",
            "377/377 [==============================] - 3s 8ms/step - loss: 1.1088 - accuracy: 0.7318\n",
            "Epoch 44/100\n",
            "377/377 [==============================] - 3s 7ms/step - loss: 1.1359 - accuracy: 0.7250\n",
            "Epoch 45/100\n",
            "377/377 [==============================] - 2s 7ms/step - loss: 1.1523 - accuracy: 0.7165\n",
            "Epoch 46/100\n",
            "377/377 [==============================] - 2s 7ms/step - loss: 1.1732 - accuracy: 0.7159\n",
            "Epoch 47/100\n",
            "377/377 [==============================] - 3s 7ms/step - loss: 1.2110 - accuracy: 0.7078\n",
            "Epoch 48/100\n",
            "377/377 [==============================] - 3s 8ms/step - loss: 1.1133 - accuracy: 0.7279\n",
            "Epoch 49/100\n",
            "377/377 [==============================] - 2s 7ms/step - loss: 1.1020 - accuracy: 0.7341\n",
            "Epoch 50/100\n",
            "377/377 [==============================] - 2s 6ms/step - loss: 1.0912 - accuracy: 0.7338\n",
            "Epoch 51/100\n",
            "377/377 [==============================] - 3s 7ms/step - loss: 1.1601 - accuracy: 0.7215\n",
            "Epoch 52/100\n",
            "377/377 [==============================] - 3s 8ms/step - loss: 1.1974 - accuracy: 0.7125\n",
            "Epoch 53/100\n",
            "377/377 [==============================] - 3s 7ms/step - loss: 1.4543 - accuracy: 0.6649\n",
            "Epoch 54/100\n",
            "377/377 [==============================] - 3s 7ms/step - loss: 1.3628 - accuracy: 0.6811\n",
            "Epoch 55/100\n",
            "377/377 [==============================] - 3s 7ms/step - loss: 1.2517 - accuracy: 0.6990\n",
            "Epoch 56/100\n",
            "377/377 [==============================] - 3s 7ms/step - loss: 1.1624 - accuracy: 0.7213\n",
            "Epoch 57/100\n",
            "377/377 [==============================] - 3s 8ms/step - loss: 1.0797 - accuracy: 0.7383\n",
            "Epoch 58/100\n",
            "377/377 [==============================] - 2s 7ms/step - loss: 1.0817 - accuracy: 0.7474\n",
            "Epoch 59/100\n",
            "377/377 [==============================] - 3s 7ms/step - loss: 1.0833 - accuracy: 0.7382\n",
            "Epoch 60/100\n",
            "377/377 [==============================] - 2s 7ms/step - loss: 1.0859 - accuracy: 0.7398\n",
            "Epoch 61/100\n",
            "377/377 [==============================] - 3s 7ms/step - loss: 1.1526 - accuracy: 0.7283\n",
            "Epoch 62/100\n",
            "377/377 [==============================] - 3s 7ms/step - loss: 1.1282 - accuracy: 0.7340\n",
            "Epoch 63/100\n",
            "377/377 [==============================] - 3s 7ms/step - loss: 1.1368 - accuracy: 0.7288\n",
            "Epoch 64/100\n",
            "377/377 [==============================] - 3s 7ms/step - loss: 1.1866 - accuracy: 0.7197\n",
            "Epoch 65/100\n",
            "377/377 [==============================] - 2s 7ms/step - loss: 1.1901 - accuracy: 0.7232\n",
            "Epoch 66/100\n",
            "377/377 [==============================] - 3s 9ms/step - loss: 1.1529 - accuracy: 0.7291\n",
            "Epoch 67/100\n",
            "377/377 [==============================] - 2s 7ms/step - loss: 1.1112 - accuracy: 0.7369\n",
            "Epoch 68/100\n",
            "377/377 [==============================] - 2s 7ms/step - loss: 1.0992 - accuracy: 0.7373\n",
            "Epoch 69/100\n",
            "377/377 [==============================] - 2s 7ms/step - loss: 1.0972 - accuracy: 0.7345\n",
            "Epoch 70/100\n",
            "377/377 [==============================] - 2s 7ms/step - loss: 1.1254 - accuracy: 0.7323\n",
            "Epoch 71/100\n",
            "377/377 [==============================] - 3s 8ms/step - loss: 1.0929 - accuracy: 0.7370\n",
            "Epoch 72/100\n",
            "377/377 [==============================] - 2s 7ms/step - loss: 1.0984 - accuracy: 0.7419\n",
            "Epoch 73/100\n",
            "377/377 [==============================] - 3s 7ms/step - loss: 1.0426 - accuracy: 0.7500\n",
            "Epoch 74/100\n",
            "377/377 [==============================] - 3s 7ms/step - loss: 1.1012 - accuracy: 0.7421\n",
            "Epoch 75/100\n",
            "377/377 [==============================] - 3s 8ms/step - loss: 1.0921 - accuracy: 0.7392\n",
            "Epoch 76/100\n",
            "377/377 [==============================] - 3s 8ms/step - loss: 1.1027 - accuracy: 0.7334\n",
            "Epoch 77/100\n",
            "377/377 [==============================] - 3s 7ms/step - loss: 1.0877 - accuracy: 0.7441\n",
            "Epoch 78/100\n",
            "377/377 [==============================] - 3s 7ms/step - loss: 1.1085 - accuracy: 0.7430\n",
            "Epoch 79/100\n",
            "377/377 [==============================] - 3s 7ms/step - loss: 1.0917 - accuracy: 0.7435\n",
            "Epoch 80/100\n",
            "377/377 [==============================] - 3s 8ms/step - loss: 1.0974 - accuracy: 0.7397\n",
            "Epoch 81/100\n",
            "377/377 [==============================] - 2s 7ms/step - loss: 1.0985 - accuracy: 0.7383\n",
            "Epoch 82/100\n",
            "377/377 [==============================] - 3s 7ms/step - loss: 1.1004 - accuracy: 0.7389\n",
            "Epoch 83/100\n",
            "377/377 [==============================] - 3s 7ms/step - loss: 1.1065 - accuracy: 0.7425\n",
            "Epoch 84/100\n",
            "377/377 [==============================] - 3s 7ms/step - loss: 1.0851 - accuracy: 0.7414\n",
            "Epoch 85/100\n",
            "377/377 [==============================] - 3s 8ms/step - loss: 1.0718 - accuracy: 0.7520\n",
            "Epoch 86/100\n",
            "377/377 [==============================] - 3s 7ms/step - loss: 1.0401 - accuracy: 0.7541\n",
            "Epoch 87/100\n",
            "377/377 [==============================] - 3s 7ms/step - loss: 1.0237 - accuracy: 0.7529\n",
            "Epoch 88/100\n",
            "377/377 [==============================] - 3s 7ms/step - loss: 1.0204 - accuracy: 0.7534\n",
            "Epoch 89/100\n",
            "377/377 [==============================] - 3s 9ms/step - loss: 1.0483 - accuracy: 0.7527\n",
            "Epoch 90/100\n",
            "377/377 [==============================] - 3s 7ms/step - loss: 1.0851 - accuracy: 0.7441\n",
            "Epoch 91/100\n",
            "377/377 [==============================] - 2s 7ms/step - loss: 1.0916 - accuracy: 0.7391\n",
            "Epoch 92/100\n",
            "377/377 [==============================] - 3s 7ms/step - loss: 1.0832 - accuracy: 0.7442\n",
            "Epoch 93/100\n",
            "377/377 [==============================] - 3s 7ms/step - loss: 1.0609 - accuracy: 0.7493\n",
            "Epoch 94/100\n",
            "377/377 [==============================] - 3s 8ms/step - loss: 1.0510 - accuracy: 0.7461\n",
            "Epoch 95/100\n",
            "377/377 [==============================] - 3s 7ms/step - loss: 1.0109 - accuracy: 0.7613\n",
            "Epoch 96/100\n",
            "377/377 [==============================] - 2s 7ms/step - loss: 0.9897 - accuracy: 0.7608\n",
            "Epoch 97/100\n",
            "377/377 [==============================] - 3s 7ms/step - loss: 0.9972 - accuracy: 0.7668\n",
            "Epoch 98/100\n",
            "377/377 [==============================] - 3s 8ms/step - loss: 0.9986 - accuracy: 0.7661\n",
            "Epoch 99/100\n",
            "377/377 [==============================] - 3s 7ms/step - loss: 1.0148 - accuracy: 0.7607\n",
            "Epoch 100/100\n",
            "377/377 [==============================] - 3s 7ms/step - loss: 1.0102 - accuracy: 0.7612\n"
          ]
        },
        {
          "output_type": "execute_result",
          "data": {
            "text/plain": [
              "<keras.callbacks.History at 0x7fa14923dee0>"
            ]
          },
          "metadata": {},
          "execution_count": 9
        }
      ]
    },
    {
      "cell_type": "code",
      "source": [
        "seed_text = \"I killed myself\"\n",
        "next_words = 20\n",
        "\n",
        "for i in range(next_words):\n",
        "  token_list = tokenizer.texts_to_sequences([seed_text])[0]\n",
        "  token_list= pad_sequences([token_list], maxlen=max_len-1, padding=\"pre\")\n",
        "  predicted = np.argmax(model.predict(token_list), axis=-1)\n",
        "  output_word=\"\"\n",
        "  for word, index in tokenizer.word_index.items():\n",
        "    if index==predicted:\n",
        "      output_word=word\n",
        "      break\n",
        "  seed_text += \" \"+output_word\n",
        "\n",
        "print(seed_text)"
      ],
      "metadata": {
        "colab": {
          "base_uri": "https://localhost:8080/"
        },
        "id": "UvWCCW1_ClCE",
        "outputId": "45e12a16-8934-400c-f1bd-5d69945cba2a"
      },
      "execution_count": 16,
      "outputs": [
        {
          "output_type": "stream",
          "name": "stdout",
          "text": [
            "1/1 [==============================] - 0s 33ms/step\n",
            "1/1 [==============================] - 0s 30ms/step\n",
            "1/1 [==============================] - 0s 29ms/step\n",
            "1/1 [==============================] - 0s 32ms/step\n",
            "1/1 [==============================] - 0s 30ms/step\n",
            "1/1 [==============================] - 0s 30ms/step\n",
            "1/1 [==============================] - 0s 29ms/step\n",
            "1/1 [==============================] - 0s 33ms/step\n",
            "1/1 [==============================] - 0s 29ms/step\n",
            "1/1 [==============================] - 0s 28ms/step\n",
            "1/1 [==============================] - 0s 29ms/step\n",
            "1/1 [==============================] - 0s 32ms/step\n",
            "1/1 [==============================] - 0s 38ms/step\n",
            "1/1 [==============================] - 0s 106ms/step\n",
            "1/1 [==============================] - 0s 106ms/step\n",
            "1/1 [==============================] - 0s 30ms/step\n",
            "1/1 [==============================] - 0s 40ms/step\n",
            "1/1 [==============================] - 0s 27ms/step\n",
            "1/1 [==============================] - 0s 28ms/step\n",
            "1/1 [==============================] - 0s 25ms/step\n",
            "I killed myself to none of my pocket to one night our wedding day come to possessed me life or love them them\n"
          ]
        }
      ]
    }
  ]
}
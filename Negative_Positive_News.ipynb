{
  "nbformat": 4,
  "nbformat_minor": 0,
  "metadata": {
    "colab": {
      "provenance": [],
      "include_colab_link": true
    },
    "kernelspec": {
      "name": "python3",
      "display_name": "Python 3"
    },
    "language_info": {
      "name": "python"
    },
    "accelerator": "GPU",
    "gpuClass": "standard"
  },
  "cells": [
    {
      "cell_type": "markdown",
      "metadata": {
        "id": "view-in-github",
        "colab_type": "text"
      },
      "source": [
        "<a href=\"https://colab.research.google.com/github/ZeleOeO/Artificial-Intelligence-Projects/blob/main/Negative_Positive_News.ipynb\" target=\"_parent\"><img src=\"https://colab.research.google.com/assets/colab-badge.svg\" alt=\"Open In Colab\"/></a>"
      ]
    },
    {
      "cell_type": "code",
      "source": [
        "import json"
      ],
      "metadata": {
        "id": "DZTbiQn4loyg"
      },
      "execution_count": 1,
      "outputs": []
    },
    {
      "cell_type": "code",
      "execution_count": 2,
      "metadata": {
        "id": "ZZZW9BTRlgYM"
      },
      "outputs": [],
      "source": [
        "import pandas as pd\n",
        "import numpy as np\n",
        "\n",
        "import tensorflow\n",
        "from tensorflow import keras\n",
        "\n",
        "from keras.preprocessing.text import Tokenizer\n",
        "from keras.utils import pad_sequences"
      ]
    },
    {
      "cell_type": "markdown",
      "source": [
        "Initialize the tokenizer and read the data from the csv"
      ],
      "metadata": {
        "id": "uB2dTHOgr9cn"
      }
    },
    {
      "cell_type": "code",
      "source": [
        "tokenizer = Tokenizer(oov_token=\"<OOV_Token>\")\n",
        "\n",
        "\n",
        "dataset = pd.read_csv(\"/content/data.csv\")\n",
        "\n",
        "sentences = dataset[\"Sentence\"]\n",
        "labels = dataset[\"Sentiment\"]\n",
        "\n",
        "print(type(sentences))\n",
        "print(dataset.shape)"
      ],
      "metadata": {
        "colab": {
          "base_uri": "https://localhost:8080/"
        },
        "id": "BGhgGC9Aq-L5",
        "outputId": "e90ab233-5cff-4ac5-9ec0-f17f60898bea"
      },
      "execution_count": 3,
      "outputs": [
        {
          "output_type": "stream",
          "name": "stdout",
          "text": [
            "<class 'pandas.core.series.Series'>\n",
            "(5842, 2)\n"
          ]
        }
      ]
    },
    {
      "cell_type": "code",
      "source": [
        "labels"
      ],
      "metadata": {
        "id": "HelBLzM7Hz4f",
        "outputId": "9f8f137d-628e-444d-f924-7e4b9bdb93e4",
        "colab": {
          "base_uri": "https://localhost:8080/"
        }
      },
      "execution_count": 4,
      "outputs": [
        {
          "output_type": "execute_result",
          "data": {
            "text/plain": [
              "0       positive\n",
              "1       negative\n",
              "2       positive\n",
              "3        neutral\n",
              "4        neutral\n",
              "          ...   \n",
              "5837    negative\n",
              "5838     neutral\n",
              "5839     neutral\n",
              "5840     neutral\n",
              "5841    positive\n",
              "Name: Sentiment, Length: 5842, dtype: object"
            ]
          },
          "metadata": {},
          "execution_count": 4
        }
      ]
    },
    {
      "cell_type": "code",
      "source": [
        "training_size = 4000\n",
        "num_epochs = 175\n",
        "vocab_size = 10000\n",
        "embedding_dim = 16\n",
        "max_length = 100\n",
        "trunc_type='post'\n",
        "padding_type='post'"
      ],
      "metadata": {
        "id": "Lb5TekftxUiJ"
      },
      "execution_count": 35,
      "outputs": []
    },
    {
      "cell_type": "code",
      "source": [
        "training_sentences = sentences[0:training_size]\n",
        "training_labels = labels[0:training_size]\n",
        "\n",
        "testing_sentences = sentences[training_size:]\n",
        "testing_labels = labels[training_size:]"
      ],
      "metadata": {
        "id": "kVXMPrBY6pbr"
      },
      "execution_count": 6,
      "outputs": []
    },
    {
      "cell_type": "code",
      "source": [
        "training_labels"
      ],
      "metadata": {
        "id": "FC2ZBdGHH5P9",
        "outputId": "9a4ada91-c1d2-4e60-e1ca-3e517e041b09",
        "colab": {
          "base_uri": "https://localhost:8080/"
        }
      },
      "execution_count": 7,
      "outputs": [
        {
          "output_type": "execute_result",
          "data": {
            "text/plain": [
              "0       positive\n",
              "1       negative\n",
              "2       positive\n",
              "3        neutral\n",
              "4        neutral\n",
              "          ...   \n",
              "3995    negative\n",
              "3996     neutral\n",
              "3997     neutral\n",
              "3998    positive\n",
              "3999    negative\n",
              "Name: Sentiment, Length: 4000, dtype: object"
            ]
          },
          "metadata": {},
          "execution_count": 7
        }
      ]
    },
    {
      "cell_type": "code",
      "source": [
        "tokenizer.fit_on_texts(training_sentences)\n",
        "word_index = tokenizer.word_index\n",
        "\n",
        "training_sequences = tokenizer.texts_to_sequences(training_sentences)\n",
        "training_padded = pad_sequences(training_sequences, padding=padding_type, truncating = trunc_type, maxlen=max_length)\n",
        "\n",
        "testing_sequences = tokenizer.texts_to_sequences(testing_sentences)\n",
        "testing_padded = pad_sequences(testing_sequences, padding=padding_type, truncating = trunc_type, maxlen=max_length)"
      ],
      "metadata": {
        "id": "1o3bwiR7AG7n"
      },
      "execution_count": 8,
      "outputs": []
    },
    {
      "cell_type": "markdown",
      "source": [
        "Convert the labels and the padded texts to a numpy array"
      ],
      "metadata": {
        "id": "41pBHsetF930"
      }
    },
    {
      "cell_type": "code",
      "source": [
        "\n",
        "testing_padded = np.array(testing_padded)\n",
        "testing_labels = np.array(testing_labels)\n",
        "training_padded = np.array(training_padded)\n",
        "training_labels = np.array(training_labels)\n"
      ],
      "metadata": {
        "id": "bGnCQTf0Ga4C"
      },
      "execution_count": 9,
      "outputs": []
    },
    {
      "cell_type": "code",
      "source": [
        "training_labels"
      ],
      "metadata": {
        "id": "Z9fEN4iWIS2z",
        "outputId": "7de8c9e5-6245-4fa8-bcfe-4885bd26b847",
        "colab": {
          "base_uri": "https://localhost:8080/"
        }
      },
      "execution_count": 10,
      "outputs": [
        {
          "output_type": "execute_result",
          "data": {
            "text/plain": [
              "array(['positive', 'negative', 'positive', ..., 'neutral', 'positive',\n",
              "       'negative'], dtype=object)"
            ]
          },
          "metadata": {},
          "execution_count": 10
        }
      ]
    },
    {
      "cell_type": "code",
      "source": [
        "from sklearn.preprocessing import LabelEncoder\n",
        "le = LabelEncoder()  # Create a LabelEncoder object\n",
        "le.fit(labels)  # Fit the encoder to the labels\n",
        "testing_labels = le.transform(testing_labels)  # Convert testing labels to integers\n",
        "testing_labels = keras.utils.to_categorical(testing_labels, num_classes=3)\n",
        "\n",
        "training_labels = keras.utils.to_categorical(le.transform(training_labels), num_classes=3)\n",
        "#training_labels = le.transform(training_labels)"
      ],
      "metadata": {
        "id": "JTQ-NwymDonT"
      },
      "execution_count": 11,
      "outputs": []
    },
    {
      "cell_type": "code",
      "source": [
        "training_labels[0:100]"
      ],
      "metadata": {
        "id": "yODHrRlDHcqx"
      },
      "execution_count": null,
      "outputs": []
    },
    {
      "cell_type": "code",
      "source": [
        "training_labels = training_labels.reshape(-1, 3)"
      ],
      "metadata": {
        "id": "Uo1ZezF_U87C"
      },
      "execution_count": 13,
      "outputs": []
    },
    {
      "cell_type": "markdown",
      "source": [
        "Create the model with an embedder and then fit it"
      ],
      "metadata": {
        "id": "zcdHauQDMB6H"
      }
    },
    {
      "cell_type": "code",
      "source": [
        "model = keras.Sequential([\n",
        "    keras.layers.Embedding(vocab_size, embedding_dim, input_length = max_length),\n",
        "    keras.layers.GlobalAveragePooling1D(),\n",
        "    keras.layers.Dense(24, activation = \"relu\"),\n",
        "    keras.layers.Dense(3, activation = \"softmax\")\n",
        "])\n",
        "\n",
        "model.compile(loss=\"categorical_crossentropy\", optimizer = \"adam\", metrics= keras.metrics.CategoricalAccuracy(name='accuracy'))"
      ],
      "metadata": {
        "id": "bvnAqQFAL_QF"
      },
      "execution_count": 14,
      "outputs": []
    },
    {
      "cell_type": "code",
      "source": [
        "model.summary()"
      ],
      "metadata": {
        "colab": {
          "base_uri": "https://localhost:8080/"
        },
        "id": "qGbKyG7kUkQy",
        "outputId": "750ba258-c29d-416e-aa9d-eadb06731882"
      },
      "execution_count": 15,
      "outputs": [
        {
          "output_type": "stream",
          "name": "stdout",
          "text": [
            "Model: \"sequential\"\n",
            "_________________________________________________________________\n",
            " Layer (type)                Output Shape              Param #   \n",
            "=================================================================\n",
            " embedding (Embedding)       (None, 100, 16)           160000    \n",
            "                                                                 \n",
            " global_average_pooling1d (G  (None, 16)               0         \n",
            " lobalAveragePooling1D)                                          \n",
            "                                                                 \n",
            " dense (Dense)               (None, 24)                408       \n",
            "                                                                 \n",
            " dense_1 (Dense)             (None, 3)                 75        \n",
            "                                                                 \n",
            "=================================================================\n",
            "Total params: 160,483\n",
            "Trainable params: 160,483\n",
            "Non-trainable params: 0\n",
            "_________________________________________________________________\n"
          ]
        }
      ]
    },
    {
      "cell_type": "code",
      "source": [
        "model.fit(training_padded, training_labels, epochs=num_epochs, validation_data=(testing_padded, testing_labels), verbose=2)"
      ],
      "metadata": {
        "id": "iuu91PdZcjIV",
        "outputId": "6e030b34-21bd-44de-d21b-7b24e921b736",
        "colab": {
          "base_uri": "https://localhost:8080/"
        }
      },
      "execution_count": 36,
      "outputs": [
        {
          "output_type": "stream",
          "name": "stdout",
          "text": [
            "Epoch 1/175\n",
            "125/125 - 1s - loss: 0.0901 - accuracy: 0.9320 - val_loss: 3.4232 - val_accuracy: 0.6433 - 515ms/epoch - 4ms/step\n",
            "Epoch 2/175\n",
            "125/125 - 0s - loss: 0.0900 - accuracy: 0.9277 - val_loss: 3.4807 - val_accuracy: 0.6314 - 492ms/epoch - 4ms/step\n",
            "Epoch 3/175\n",
            "125/125 - 0s - loss: 0.0897 - accuracy: 0.9380 - val_loss: 3.4836 - val_accuracy: 0.6433 - 495ms/epoch - 4ms/step\n",
            "Epoch 4/175\n",
            "125/125 - 0s - loss: 0.0896 - accuracy: 0.9317 - val_loss: 3.3924 - val_accuracy: 0.6390 - 481ms/epoch - 4ms/step\n",
            "Epoch 5/175\n",
            "125/125 - 0s - loss: 0.0903 - accuracy: 0.9340 - val_loss: 3.5182 - val_accuracy: 0.6460 - 460ms/epoch - 4ms/step\n",
            "Epoch 6/175\n",
            "125/125 - 0s - loss: 0.0888 - accuracy: 0.9367 - val_loss: 3.6091 - val_accuracy: 0.6477 - 454ms/epoch - 4ms/step\n",
            "Epoch 7/175\n",
            "125/125 - 0s - loss: 0.0891 - accuracy: 0.9305 - val_loss: 3.4914 - val_accuracy: 0.6395 - 474ms/epoch - 4ms/step\n",
            "Epoch 8/175\n",
            "125/125 - 0s - loss: 0.0901 - accuracy: 0.9243 - val_loss: 3.5747 - val_accuracy: 0.6460 - 492ms/epoch - 4ms/step\n",
            "Epoch 9/175\n",
            "125/125 - 1s - loss: 0.0903 - accuracy: 0.9323 - val_loss: 3.4322 - val_accuracy: 0.6401 - 501ms/epoch - 4ms/step\n",
            "Epoch 10/175\n",
            "125/125 - 0s - loss: 0.0896 - accuracy: 0.9348 - val_loss: 3.5074 - val_accuracy: 0.6401 - 456ms/epoch - 4ms/step\n",
            "Epoch 11/175\n",
            "125/125 - 1s - loss: 0.0892 - accuracy: 0.9283 - val_loss: 3.5463 - val_accuracy: 0.6439 - 829ms/epoch - 7ms/step\n",
            "Epoch 12/175\n",
            "125/125 - 1s - loss: 0.0902 - accuracy: 0.9293 - val_loss: 3.4082 - val_accuracy: 0.6417 - 665ms/epoch - 5ms/step\n",
            "Epoch 13/175\n",
            "125/125 - 0s - loss: 0.0890 - accuracy: 0.9293 - val_loss: 3.4938 - val_accuracy: 0.6395 - 463ms/epoch - 4ms/step\n",
            "Epoch 14/175\n",
            "125/125 - 1s - loss: 0.0895 - accuracy: 0.9280 - val_loss: 3.5754 - val_accuracy: 0.6433 - 659ms/epoch - 5ms/step\n",
            "Epoch 15/175\n",
            "125/125 - 1s - loss: 0.0894 - accuracy: 0.9287 - val_loss: 3.5864 - val_accuracy: 0.6460 - 516ms/epoch - 4ms/step\n",
            "Epoch 16/175\n",
            "125/125 - 1s - loss: 0.0898 - accuracy: 0.9298 - val_loss: 3.6501 - val_accuracy: 0.6428 - 619ms/epoch - 5ms/step\n",
            "Epoch 17/175\n",
            "125/125 - 1s - loss: 0.0894 - accuracy: 0.9340 - val_loss: 3.5893 - val_accuracy: 0.6406 - 1s/epoch - 9ms/step\n",
            "Epoch 18/175\n",
            "125/125 - 1s - loss: 0.0892 - accuracy: 0.9287 - val_loss: 3.6377 - val_accuracy: 0.6422 - 683ms/epoch - 5ms/step\n",
            "Epoch 19/175\n",
            "125/125 - 0s - loss: 0.0887 - accuracy: 0.9325 - val_loss: 3.7399 - val_accuracy: 0.6390 - 447ms/epoch - 4ms/step\n",
            "Epoch 20/175\n",
            "125/125 - 0s - loss: 0.0901 - accuracy: 0.9310 - val_loss: 3.5274 - val_accuracy: 0.6401 - 450ms/epoch - 4ms/step\n",
            "Epoch 21/175\n",
            "125/125 - 0s - loss: 0.0892 - accuracy: 0.9315 - val_loss: 3.5831 - val_accuracy: 0.6422 - 475ms/epoch - 4ms/step\n",
            "Epoch 22/175\n",
            "125/125 - 0s - loss: 0.0891 - accuracy: 0.9323 - val_loss: 3.6344 - val_accuracy: 0.6422 - 487ms/epoch - 4ms/step\n",
            "Epoch 23/175\n",
            "125/125 - 0s - loss: 0.0895 - accuracy: 0.9300 - val_loss: 3.6047 - val_accuracy: 0.6422 - 468ms/epoch - 4ms/step\n",
            "Epoch 24/175\n",
            "125/125 - 0s - loss: 0.0900 - accuracy: 0.9285 - val_loss: 3.6090 - val_accuracy: 0.6428 - 483ms/epoch - 4ms/step\n",
            "Epoch 25/175\n",
            "125/125 - 0s - loss: 0.0889 - accuracy: 0.9275 - val_loss: 3.7353 - val_accuracy: 0.6406 - 467ms/epoch - 4ms/step\n",
            "Epoch 26/175\n",
            "125/125 - 0s - loss: 0.0891 - accuracy: 0.9283 - val_loss: 3.6539 - val_accuracy: 0.6428 - 447ms/epoch - 4ms/step\n",
            "Epoch 27/175\n",
            "125/125 - 0s - loss: 0.0890 - accuracy: 0.9273 - val_loss: 3.7289 - val_accuracy: 0.6412 - 442ms/epoch - 4ms/step\n",
            "Epoch 28/175\n",
            "125/125 - 0s - loss: 0.0892 - accuracy: 0.9310 - val_loss: 3.6943 - val_accuracy: 0.6379 - 484ms/epoch - 4ms/step\n",
            "Epoch 29/175\n",
            "125/125 - 0s - loss: 0.0888 - accuracy: 0.9247 - val_loss: 3.7642 - val_accuracy: 0.6412 - 440ms/epoch - 4ms/step\n",
            "Epoch 30/175\n",
            "125/125 - 0s - loss: 0.0897 - accuracy: 0.9335 - val_loss: 3.6688 - val_accuracy: 0.6368 - 495ms/epoch - 4ms/step\n",
            "Epoch 31/175\n",
            "125/125 - 0s - loss: 0.0891 - accuracy: 0.9350 - val_loss: 3.5651 - val_accuracy: 0.6379 - 457ms/epoch - 4ms/step\n",
            "Epoch 32/175\n",
            "125/125 - 1s - loss: 0.0888 - accuracy: 0.9348 - val_loss: 3.6228 - val_accuracy: 0.6319 - 503ms/epoch - 4ms/step\n",
            "Epoch 33/175\n",
            "125/125 - 0s - loss: 0.0888 - accuracy: 0.9308 - val_loss: 3.7539 - val_accuracy: 0.6406 - 454ms/epoch - 4ms/step\n",
            "Epoch 34/175\n",
            "125/125 - 0s - loss: 0.0886 - accuracy: 0.9280 - val_loss: 3.7694 - val_accuracy: 0.6406 - 490ms/epoch - 4ms/step\n",
            "Epoch 35/175\n",
            "125/125 - 0s - loss: 0.0890 - accuracy: 0.9373 - val_loss: 3.7646 - val_accuracy: 0.6395 - 486ms/epoch - 4ms/step\n",
            "Epoch 36/175\n",
            "125/125 - 0s - loss: 0.0889 - accuracy: 0.9283 - val_loss: 3.7145 - val_accuracy: 0.6374 - 457ms/epoch - 4ms/step\n",
            "Epoch 37/175\n",
            "125/125 - 0s - loss: 0.0889 - accuracy: 0.9320 - val_loss: 3.7709 - val_accuracy: 0.6406 - 488ms/epoch - 4ms/step\n",
            "Epoch 38/175\n",
            "125/125 - 0s - loss: 0.0891 - accuracy: 0.9327 - val_loss: 3.7525 - val_accuracy: 0.6406 - 488ms/epoch - 4ms/step\n",
            "Epoch 39/175\n",
            "125/125 - 1s - loss: 0.0887 - accuracy: 0.9388 - val_loss: 3.7613 - val_accuracy: 0.6395 - 575ms/epoch - 5ms/step\n",
            "Epoch 40/175\n",
            "125/125 - 1s - loss: 0.0892 - accuracy: 0.9390 - val_loss: 3.7194 - val_accuracy: 0.6406 - 831ms/epoch - 7ms/step\n",
            "Epoch 41/175\n",
            "125/125 - 1s - loss: 0.0885 - accuracy: 0.9348 - val_loss: 3.7560 - val_accuracy: 0.6336 - 843ms/epoch - 7ms/step\n",
            "Epoch 42/175\n",
            "125/125 - 0s - loss: 0.0886 - accuracy: 0.9335 - val_loss: 3.8246 - val_accuracy: 0.6406 - 479ms/epoch - 4ms/step\n",
            "Epoch 43/175\n",
            "125/125 - 1s - loss: 0.0889 - accuracy: 0.9370 - val_loss: 3.7460 - val_accuracy: 0.6374 - 525ms/epoch - 4ms/step\n",
            "Epoch 44/175\n",
            "125/125 - 0s - loss: 0.0890 - accuracy: 0.9330 - val_loss: 3.7959 - val_accuracy: 0.6330 - 453ms/epoch - 4ms/step\n",
            "Epoch 45/175\n",
            "125/125 - 1s - loss: 0.0884 - accuracy: 0.9293 - val_loss: 3.6678 - val_accuracy: 0.6330 - 504ms/epoch - 4ms/step\n",
            "Epoch 46/175\n",
            "125/125 - 0s - loss: 0.0886 - accuracy: 0.9280 - val_loss: 3.7721 - val_accuracy: 0.6384 - 495ms/epoch - 4ms/step\n",
            "Epoch 47/175\n",
            "125/125 - 0s - loss: 0.0886 - accuracy: 0.9262 - val_loss: 3.8772 - val_accuracy: 0.6401 - 458ms/epoch - 4ms/step\n",
            "Epoch 48/175\n",
            "125/125 - 0s - loss: 0.0885 - accuracy: 0.9317 - val_loss: 3.9019 - val_accuracy: 0.6379 - 458ms/epoch - 4ms/step\n",
            "Epoch 49/175\n",
            "125/125 - 0s - loss: 0.0883 - accuracy: 0.9395 - val_loss: 3.9322 - val_accuracy: 0.6422 - 477ms/epoch - 4ms/step\n",
            "Epoch 50/175\n",
            "125/125 - 0s - loss: 0.0889 - accuracy: 0.9340 - val_loss: 3.8882 - val_accuracy: 0.6395 - 474ms/epoch - 4ms/step\n",
            "Epoch 51/175\n",
            "125/125 - 0s - loss: 0.0889 - accuracy: 0.9323 - val_loss: 3.8054 - val_accuracy: 0.6422 - 476ms/epoch - 4ms/step\n",
            "Epoch 52/175\n",
            "125/125 - 0s - loss: 0.0885 - accuracy: 0.9320 - val_loss: 3.9186 - val_accuracy: 0.6357 - 482ms/epoch - 4ms/step\n",
            "Epoch 53/175\n",
            "125/125 - 0s - loss: 0.0888 - accuracy: 0.9342 - val_loss: 3.8778 - val_accuracy: 0.6395 - 483ms/epoch - 4ms/step\n",
            "Epoch 54/175\n",
            "125/125 - 0s - loss: 0.0886 - accuracy: 0.9340 - val_loss: 3.9203 - val_accuracy: 0.6374 - 454ms/epoch - 4ms/step\n",
            "Epoch 55/175\n",
            "125/125 - 0s - loss: 0.0883 - accuracy: 0.9325 - val_loss: 3.9194 - val_accuracy: 0.6406 - 445ms/epoch - 4ms/step\n",
            "Epoch 56/175\n",
            "125/125 - 0s - loss: 0.0888 - accuracy: 0.9325 - val_loss: 3.8709 - val_accuracy: 0.6374 - 464ms/epoch - 4ms/step\n",
            "Epoch 57/175\n",
            "125/125 - 0s - loss: 0.0882 - accuracy: 0.9325 - val_loss: 3.9913 - val_accuracy: 0.6401 - 459ms/epoch - 4ms/step\n",
            "Epoch 58/175\n",
            "125/125 - 0s - loss: 0.0881 - accuracy: 0.9383 - val_loss: 3.8872 - val_accuracy: 0.6336 - 479ms/epoch - 4ms/step\n",
            "Epoch 59/175\n",
            "125/125 - 0s - loss: 0.0881 - accuracy: 0.9340 - val_loss: 3.9989 - val_accuracy: 0.6395 - 499ms/epoch - 4ms/step\n",
            "Epoch 60/175\n",
            "125/125 - 0s - loss: 0.0884 - accuracy: 0.9360 - val_loss: 3.9538 - val_accuracy: 0.6363 - 463ms/epoch - 4ms/step\n",
            "Epoch 61/175\n",
            "125/125 - 0s - loss: 0.0882 - accuracy: 0.9305 - val_loss: 4.0779 - val_accuracy: 0.6406 - 440ms/epoch - 4ms/step\n",
            "Epoch 62/175\n",
            "125/125 - 1s - loss: 0.0887 - accuracy: 0.9337 - val_loss: 3.9143 - val_accuracy: 0.6379 - 686ms/epoch - 5ms/step\n",
            "Epoch 63/175\n",
            "125/125 - 1s - loss: 0.0882 - accuracy: 0.9317 - val_loss: 3.9546 - val_accuracy: 0.6395 - 696ms/epoch - 6ms/step\n",
            "Epoch 64/175\n",
            "125/125 - 1s - loss: 0.0883 - accuracy: 0.9312 - val_loss: 4.0432 - val_accuracy: 0.6390 - 717ms/epoch - 6ms/step\n",
            "Epoch 65/175\n",
            "125/125 - 1s - loss: 0.0884 - accuracy: 0.9290 - val_loss: 3.9181 - val_accuracy: 0.6341 - 639ms/epoch - 5ms/step\n",
            "Epoch 66/175\n",
            "125/125 - 0s - loss: 0.0886 - accuracy: 0.9330 - val_loss: 3.9907 - val_accuracy: 0.6341 - 482ms/epoch - 4ms/step\n",
            "Epoch 67/175\n",
            "125/125 - 1s - loss: 0.0923 - accuracy: 0.9325 - val_loss: 3.9702 - val_accuracy: 0.6412 - 665ms/epoch - 5ms/step\n",
            "Epoch 68/175\n",
            "125/125 - 0s - loss: 0.0881 - accuracy: 0.9285 - val_loss: 4.0408 - val_accuracy: 0.6406 - 469ms/epoch - 4ms/step\n",
            "Epoch 69/175\n",
            "125/125 - 0s - loss: 0.0881 - accuracy: 0.9358 - val_loss: 3.9806 - val_accuracy: 0.6368 - 488ms/epoch - 4ms/step\n",
            "Epoch 70/175\n",
            "125/125 - 1s - loss: 0.0882 - accuracy: 0.9330 - val_loss: 4.1766 - val_accuracy: 0.6352 - 502ms/epoch - 4ms/step\n",
            "Epoch 71/175\n",
            "125/125 - 0s - loss: 0.0884 - accuracy: 0.9327 - val_loss: 3.9860 - val_accuracy: 0.6417 - 458ms/epoch - 4ms/step\n",
            "Epoch 72/175\n",
            "125/125 - 0s - loss: 0.0882 - accuracy: 0.9320 - val_loss: 4.0769 - val_accuracy: 0.6439 - 448ms/epoch - 4ms/step\n",
            "Epoch 73/175\n",
            "125/125 - 0s - loss: 0.0885 - accuracy: 0.9323 - val_loss: 4.0105 - val_accuracy: 0.6384 - 463ms/epoch - 4ms/step\n",
            "Epoch 74/175\n",
            "125/125 - 0s - loss: 0.0883 - accuracy: 0.9350 - val_loss: 3.9251 - val_accuracy: 0.6401 - 476ms/epoch - 4ms/step\n",
            "Epoch 75/175\n",
            "125/125 - 1s - loss: 0.0888 - accuracy: 0.9312 - val_loss: 3.8901 - val_accuracy: 0.6363 - 503ms/epoch - 4ms/step\n",
            "Epoch 76/175\n",
            "125/125 - 0s - loss: 0.0880 - accuracy: 0.9370 - val_loss: 4.0525 - val_accuracy: 0.6390 - 449ms/epoch - 4ms/step\n",
            "Epoch 77/175\n",
            "125/125 - 0s - loss: 0.0881 - accuracy: 0.9335 - val_loss: 4.1107 - val_accuracy: 0.6384 - 458ms/epoch - 4ms/step\n",
            "Epoch 78/175\n",
            "125/125 - 0s - loss: 0.0883 - accuracy: 0.9298 - val_loss: 4.0506 - val_accuracy: 0.6422 - 459ms/epoch - 4ms/step\n",
            "Epoch 79/175\n",
            "125/125 - 1s - loss: 0.0882 - accuracy: 0.9358 - val_loss: 4.0363 - val_accuracy: 0.6346 - 694ms/epoch - 6ms/step\n",
            "Epoch 80/175\n",
            "125/125 - 1s - loss: 0.0882 - accuracy: 0.9350 - val_loss: 3.9443 - val_accuracy: 0.6357 - 680ms/epoch - 5ms/step\n",
            "Epoch 81/175\n",
            "125/125 - 0s - loss: 0.0884 - accuracy: 0.9335 - val_loss: 4.0702 - val_accuracy: 0.6374 - 483ms/epoch - 4ms/step\n",
            "Epoch 82/175\n",
            "125/125 - 0s - loss: 0.0881 - accuracy: 0.9315 - val_loss: 4.0114 - val_accuracy: 0.6357 - 496ms/epoch - 4ms/step\n",
            "Epoch 83/175\n",
            "125/125 - 0s - loss: 0.0887 - accuracy: 0.9370 - val_loss: 3.9562 - val_accuracy: 0.6395 - 495ms/epoch - 4ms/step\n",
            "Epoch 84/175\n",
            "125/125 - 1s - loss: 0.0880 - accuracy: 0.9362 - val_loss: 4.1065 - val_accuracy: 0.6406 - 507ms/epoch - 4ms/step\n",
            "Epoch 85/175\n",
            "125/125 - 1s - loss: 0.0881 - accuracy: 0.9317 - val_loss: 4.0591 - val_accuracy: 0.6401 - 701ms/epoch - 6ms/step\n",
            "Epoch 86/175\n",
            "125/125 - 1s - loss: 0.0879 - accuracy: 0.9358 - val_loss: 4.0672 - val_accuracy: 0.6390 - 694ms/epoch - 6ms/step\n",
            "Epoch 87/175\n",
            "125/125 - 1s - loss: 0.0879 - accuracy: 0.9373 - val_loss: 4.1557 - val_accuracy: 0.6401 - 679ms/epoch - 5ms/step\n",
            "Epoch 88/175\n",
            "125/125 - 0s - loss: 0.0883 - accuracy: 0.9335 - val_loss: 4.1980 - val_accuracy: 0.6401 - 473ms/epoch - 4ms/step\n",
            "Epoch 89/175\n",
            "125/125 - 0s - loss: 0.0883 - accuracy: 0.9370 - val_loss: 3.9493 - val_accuracy: 0.6314 - 448ms/epoch - 4ms/step\n",
            "Epoch 90/175\n",
            "125/125 - 1s - loss: 0.0881 - accuracy: 0.9305 - val_loss: 4.2098 - val_accuracy: 0.6384 - 504ms/epoch - 4ms/step\n",
            "Epoch 91/175\n",
            "125/125 - 0s - loss: 0.0882 - accuracy: 0.9308 - val_loss: 4.2523 - val_accuracy: 0.6374 - 457ms/epoch - 4ms/step\n",
            "Epoch 92/175\n",
            "125/125 - 0s - loss: 0.0883 - accuracy: 0.9365 - val_loss: 4.2058 - val_accuracy: 0.6439 - 442ms/epoch - 4ms/step\n",
            "Epoch 93/175\n",
            "125/125 - 0s - loss: 0.0883 - accuracy: 0.9360 - val_loss: 4.0660 - val_accuracy: 0.6341 - 450ms/epoch - 4ms/step\n",
            "Epoch 94/175\n",
            "125/125 - 0s - loss: 0.0883 - accuracy: 0.9298 - val_loss: 4.1939 - val_accuracy: 0.6390 - 455ms/epoch - 4ms/step\n",
            "Epoch 95/175\n",
            "125/125 - 0s - loss: 0.0879 - accuracy: 0.9323 - val_loss: 4.2211 - val_accuracy: 0.6379 - 469ms/epoch - 4ms/step\n",
            "Epoch 96/175\n",
            "125/125 - 0s - loss: 0.0880 - accuracy: 0.9320 - val_loss: 4.3541 - val_accuracy: 0.6384 - 467ms/epoch - 4ms/step\n",
            "Epoch 97/175\n",
            "125/125 - 0s - loss: 0.0878 - accuracy: 0.9367 - val_loss: 4.2475 - val_accuracy: 0.6357 - 443ms/epoch - 4ms/step\n",
            "Epoch 98/175\n",
            "125/125 - 0s - loss: 0.0881 - accuracy: 0.9323 - val_loss: 4.2939 - val_accuracy: 0.6395 - 442ms/epoch - 4ms/step\n",
            "Epoch 99/175\n",
            "125/125 - 0s - loss: 0.0886 - accuracy: 0.9308 - val_loss: 3.9932 - val_accuracy: 0.6336 - 487ms/epoch - 4ms/step\n",
            "Epoch 100/175\n",
            "125/125 - 0s - loss: 0.0894 - accuracy: 0.9377 - val_loss: 4.0277 - val_accuracy: 0.6406 - 469ms/epoch - 4ms/step\n",
            "Epoch 101/175\n",
            "125/125 - 0s - loss: 0.0881 - accuracy: 0.9302 - val_loss: 4.0295 - val_accuracy: 0.6450 - 491ms/epoch - 4ms/step\n",
            "Epoch 102/175\n",
            "125/125 - 0s - loss: 0.0880 - accuracy: 0.9377 - val_loss: 4.1123 - val_accuracy: 0.6422 - 458ms/epoch - 4ms/step\n",
            "Epoch 103/175\n",
            "125/125 - 0s - loss: 0.0880 - accuracy: 0.9325 - val_loss: 4.1589 - val_accuracy: 0.6422 - 485ms/epoch - 4ms/step\n",
            "Epoch 104/175\n",
            "125/125 - 0s - loss: 0.0882 - accuracy: 0.9335 - val_loss: 4.1382 - val_accuracy: 0.6428 - 455ms/epoch - 4ms/step\n",
            "Epoch 105/175\n",
            "125/125 - 1s - loss: 0.0878 - accuracy: 0.9330 - val_loss: 4.1309 - val_accuracy: 0.6422 - 524ms/epoch - 4ms/step\n",
            "Epoch 106/175\n",
            "125/125 - 0s - loss: 0.0880 - accuracy: 0.9350 - val_loss: 4.1496 - val_accuracy: 0.6368 - 494ms/epoch - 4ms/step\n",
            "Epoch 107/175\n",
            "125/125 - 0s - loss: 0.0880 - accuracy: 0.9320 - val_loss: 4.2143 - val_accuracy: 0.6368 - 491ms/epoch - 4ms/step\n",
            "Epoch 108/175\n",
            "125/125 - 0s - loss: 0.0881 - accuracy: 0.9298 - val_loss: 4.0813 - val_accuracy: 0.6406 - 488ms/epoch - 4ms/step\n",
            "Epoch 109/175\n",
            "125/125 - 1s - loss: 0.0879 - accuracy: 0.9320 - val_loss: 4.1859 - val_accuracy: 0.6422 - 702ms/epoch - 6ms/step\n",
            "Epoch 110/175\n",
            "125/125 - 1s - loss: 0.0878 - accuracy: 0.9340 - val_loss: 4.2669 - val_accuracy: 0.6384 - 703ms/epoch - 6ms/step\n",
            "Epoch 111/175\n",
            "125/125 - 1s - loss: 0.0879 - accuracy: 0.9350 - val_loss: 4.2797 - val_accuracy: 0.6433 - 826ms/epoch - 7ms/step\n",
            "Epoch 112/175\n",
            "125/125 - 0s - loss: 0.0877 - accuracy: 0.9345 - val_loss: 4.2704 - val_accuracy: 0.6390 - 436ms/epoch - 3ms/step\n",
            "Epoch 113/175\n",
            "125/125 - 1s - loss: 0.0878 - accuracy: 0.9320 - val_loss: 4.3876 - val_accuracy: 0.6412 - 707ms/epoch - 6ms/step\n",
            "Epoch 114/175\n",
            "125/125 - 1s - loss: 0.0879 - accuracy: 0.9312 - val_loss: 4.2956 - val_accuracy: 0.6390 - 506ms/epoch - 4ms/step\n",
            "Epoch 115/175\n",
            "125/125 - 0s - loss: 0.0880 - accuracy: 0.9330 - val_loss: 4.2365 - val_accuracy: 0.6336 - 485ms/epoch - 4ms/step\n",
            "Epoch 116/175\n",
            "125/125 - 0s - loss: 0.0882 - accuracy: 0.9362 - val_loss: 4.2233 - val_accuracy: 0.6422 - 458ms/epoch - 4ms/step\n",
            "Epoch 117/175\n",
            "125/125 - 0s - loss: 0.0880 - accuracy: 0.9395 - val_loss: 4.1464 - val_accuracy: 0.6314 - 473ms/epoch - 4ms/step\n",
            "Epoch 118/175\n",
            "125/125 - 0s - loss: 0.0890 - accuracy: 0.9330 - val_loss: 4.0989 - val_accuracy: 0.6363 - 465ms/epoch - 4ms/step\n",
            "Epoch 119/175\n",
            "125/125 - 0s - loss: 0.0876 - accuracy: 0.9405 - val_loss: 4.1207 - val_accuracy: 0.6379 - 464ms/epoch - 4ms/step\n",
            "Epoch 120/175\n",
            "125/125 - 0s - loss: 0.0878 - accuracy: 0.9342 - val_loss: 4.2658 - val_accuracy: 0.6406 - 454ms/epoch - 4ms/step\n",
            "Epoch 121/175\n",
            "125/125 - 0s - loss: 0.0878 - accuracy: 0.9293 - val_loss: 4.2166 - val_accuracy: 0.6357 - 449ms/epoch - 4ms/step\n",
            "Epoch 122/175\n",
            "125/125 - 0s - loss: 0.0878 - accuracy: 0.9355 - val_loss: 4.3447 - val_accuracy: 0.6401 - 488ms/epoch - 4ms/step\n",
            "Epoch 123/175\n",
            "125/125 - 0s - loss: 0.0877 - accuracy: 0.9362 - val_loss: 4.3324 - val_accuracy: 0.6363 - 452ms/epoch - 4ms/step\n",
            "Epoch 124/175\n",
            "125/125 - 0s - loss: 0.0879 - accuracy: 0.9315 - val_loss: 4.3710 - val_accuracy: 0.6395 - 450ms/epoch - 4ms/step\n",
            "Epoch 125/175\n",
            "125/125 - 1s - loss: 0.0879 - accuracy: 0.9342 - val_loss: 4.4674 - val_accuracy: 0.6412 - 665ms/epoch - 5ms/step\n",
            "Epoch 126/175\n",
            "125/125 - 1s - loss: 0.0904 - accuracy: 0.9333 - val_loss: 3.9533 - val_accuracy: 0.6412 - 696ms/epoch - 6ms/step\n",
            "Epoch 127/175\n",
            "125/125 - 0s - loss: 0.0880 - accuracy: 0.9362 - val_loss: 4.2579 - val_accuracy: 0.6374 - 492ms/epoch - 4ms/step\n",
            "Epoch 128/175\n",
            "125/125 - 0s - loss: 0.0880 - accuracy: 0.9333 - val_loss: 4.2003 - val_accuracy: 0.6379 - 454ms/epoch - 4ms/step\n",
            "Epoch 129/175\n",
            "125/125 - 0s - loss: 0.0877 - accuracy: 0.9345 - val_loss: 4.3489 - val_accuracy: 0.6363 - 457ms/epoch - 4ms/step\n",
            "Epoch 130/175\n",
            "125/125 - 0s - loss: 0.0878 - accuracy: 0.9312 - val_loss: 4.3418 - val_accuracy: 0.6341 - 485ms/epoch - 4ms/step\n",
            "Epoch 131/175\n",
            "125/125 - 1s - loss: 0.0883 - accuracy: 0.9360 - val_loss: 4.2885 - val_accuracy: 0.6368 - 579ms/epoch - 5ms/step\n",
            "Epoch 132/175\n",
            "125/125 - 1s - loss: 0.0886 - accuracy: 0.9352 - val_loss: 4.2105 - val_accuracy: 0.6357 - 669ms/epoch - 5ms/step\n",
            "Epoch 133/175\n",
            "125/125 - 1s - loss: 0.0879 - accuracy: 0.9342 - val_loss: 4.2734 - val_accuracy: 0.6395 - 817ms/epoch - 7ms/step\n",
            "Epoch 134/175\n",
            "125/125 - 1s - loss: 0.0876 - accuracy: 0.9367 - val_loss: 4.3782 - val_accuracy: 0.6352 - 571ms/epoch - 5ms/step\n",
            "Epoch 135/175\n",
            "125/125 - 0s - loss: 0.0877 - accuracy: 0.9345 - val_loss: 4.5148 - val_accuracy: 0.6352 - 498ms/epoch - 4ms/step\n",
            "Epoch 136/175\n",
            "125/125 - 0s - loss: 0.0887 - accuracy: 0.9345 - val_loss: 4.2118 - val_accuracy: 0.6346 - 461ms/epoch - 4ms/step\n",
            "Epoch 137/175\n",
            "125/125 - 1s - loss: 0.0885 - accuracy: 0.9345 - val_loss: 4.2023 - val_accuracy: 0.6384 - 501ms/epoch - 4ms/step\n",
            "Epoch 138/175\n",
            "125/125 - 0s - loss: 0.0879 - accuracy: 0.9327 - val_loss: 4.2947 - val_accuracy: 0.6336 - 448ms/epoch - 4ms/step\n",
            "Epoch 139/175\n",
            "125/125 - 0s - loss: 0.0878 - accuracy: 0.9358 - val_loss: 4.4760 - val_accuracy: 0.6374 - 465ms/epoch - 4ms/step\n",
            "Epoch 140/175\n",
            "125/125 - 0s - loss: 0.0877 - accuracy: 0.9290 - val_loss: 4.4258 - val_accuracy: 0.6384 - 446ms/epoch - 4ms/step\n",
            "Epoch 141/175\n",
            "125/125 - 1s - loss: 0.0878 - accuracy: 0.9345 - val_loss: 4.4628 - val_accuracy: 0.6384 - 512ms/epoch - 4ms/step\n",
            "Epoch 142/175\n",
            "125/125 - 0s - loss: 0.0879 - accuracy: 0.9317 - val_loss: 4.4868 - val_accuracy: 0.6368 - 432ms/epoch - 3ms/step\n",
            "Epoch 143/175\n",
            "125/125 - 1s - loss: 0.0877 - accuracy: 0.9335 - val_loss: 4.4763 - val_accuracy: 0.6379 - 505ms/epoch - 4ms/step\n",
            "Epoch 144/175\n",
            "125/125 - 0s - loss: 0.0887 - accuracy: 0.9323 - val_loss: 4.3951 - val_accuracy: 0.6374 - 456ms/epoch - 4ms/step\n",
            "Epoch 145/175\n",
            "125/125 - 0s - loss: 0.0881 - accuracy: 0.9360 - val_loss: 4.3024 - val_accuracy: 0.6319 - 463ms/epoch - 4ms/step\n",
            "Epoch 146/175\n",
            "125/125 - 1s - loss: 0.0877 - accuracy: 0.9362 - val_loss: 4.4336 - val_accuracy: 0.6363 - 501ms/epoch - 4ms/step\n",
            "Epoch 147/175\n",
            "125/125 - 1s - loss: 0.0877 - accuracy: 0.9327 - val_loss: 4.4619 - val_accuracy: 0.6363 - 500ms/epoch - 4ms/step\n",
            "Epoch 148/175\n",
            "125/125 - 0s - loss: 0.0876 - accuracy: 0.9367 - val_loss: 4.4903 - val_accuracy: 0.6357 - 478ms/epoch - 4ms/step\n",
            "Epoch 149/175\n",
            "125/125 - 0s - loss: 0.0877 - accuracy: 0.9330 - val_loss: 4.4355 - val_accuracy: 0.6352 - 482ms/epoch - 4ms/step\n",
            "Epoch 150/175\n",
            "125/125 - 1s - loss: 0.0878 - accuracy: 0.9342 - val_loss: 4.7070 - val_accuracy: 0.6265 - 682ms/epoch - 5ms/step\n",
            "Epoch 151/175\n",
            "125/125 - 1s - loss: 0.0891 - accuracy: 0.9333 - val_loss: 4.3556 - val_accuracy: 0.6270 - 510ms/epoch - 4ms/step\n",
            "Epoch 152/175\n",
            "125/125 - 0s - loss: 0.0895 - accuracy: 0.9315 - val_loss: 4.1506 - val_accuracy: 0.6363 - 445ms/epoch - 4ms/step\n",
            "Epoch 153/175\n",
            "125/125 - 0s - loss: 0.0880 - accuracy: 0.9315 - val_loss: 4.2694 - val_accuracy: 0.6325 - 481ms/epoch - 4ms/step\n",
            "Epoch 154/175\n",
            "125/125 - 1s - loss: 0.0877 - accuracy: 0.9348 - val_loss: 4.3512 - val_accuracy: 0.6374 - 552ms/epoch - 4ms/step\n",
            "Epoch 155/175\n",
            "125/125 - 1s - loss: 0.0877 - accuracy: 0.9375 - val_loss: 4.3895 - val_accuracy: 0.6330 - 680ms/epoch - 5ms/step\n",
            "Epoch 156/175\n",
            "125/125 - 1s - loss: 0.0876 - accuracy: 0.9362 - val_loss: 4.4181 - val_accuracy: 0.6390 - 851ms/epoch - 7ms/step\n",
            "Epoch 157/175\n",
            "125/125 - 1s - loss: 0.0877 - accuracy: 0.9337 - val_loss: 4.3277 - val_accuracy: 0.6314 - 595ms/epoch - 5ms/step\n",
            "Epoch 158/175\n",
            "125/125 - 1s - loss: 0.0899 - accuracy: 0.9310 - val_loss: 4.3973 - val_accuracy: 0.6336 - 525ms/epoch - 4ms/step\n",
            "Epoch 159/175\n",
            "125/125 - 0s - loss: 0.0878 - accuracy: 0.9350 - val_loss: 4.2913 - val_accuracy: 0.6374 - 456ms/epoch - 4ms/step\n",
            "Epoch 160/175\n",
            "125/125 - 0s - loss: 0.0881 - accuracy: 0.9320 - val_loss: 4.3157 - val_accuracy: 0.6379 - 460ms/epoch - 4ms/step\n",
            "Epoch 161/175\n",
            "125/125 - 0s - loss: 0.0878 - accuracy: 0.9308 - val_loss: 4.2577 - val_accuracy: 0.6292 - 492ms/epoch - 4ms/step\n",
            "Epoch 162/175\n",
            "125/125 - 0s - loss: 0.0877 - accuracy: 0.9335 - val_loss: 4.4370 - val_accuracy: 0.6374 - 492ms/epoch - 4ms/step\n",
            "Epoch 163/175\n",
            "125/125 - 0s - loss: 0.0876 - accuracy: 0.9367 - val_loss: 4.4500 - val_accuracy: 0.6336 - 456ms/epoch - 4ms/step\n",
            "Epoch 164/175\n",
            "125/125 - 0s - loss: 0.0876 - accuracy: 0.9385 - val_loss: 4.4831 - val_accuracy: 0.6330 - 493ms/epoch - 4ms/step\n",
            "Epoch 165/175\n",
            "125/125 - 0s - loss: 0.0878 - accuracy: 0.9342 - val_loss: 4.4986 - val_accuracy: 0.6384 - 491ms/epoch - 4ms/step\n",
            "Epoch 166/175\n",
            "125/125 - 0s - loss: 0.0878 - accuracy: 0.9330 - val_loss: 4.5435 - val_accuracy: 0.6352 - 486ms/epoch - 4ms/step\n",
            "Epoch 167/175\n",
            "125/125 - 0s - loss: 0.0875 - accuracy: 0.9385 - val_loss: 4.5487 - val_accuracy: 0.6379 - 481ms/epoch - 4ms/step\n",
            "Epoch 168/175\n",
            "125/125 - 0s - loss: 0.0876 - accuracy: 0.9362 - val_loss: 4.5157 - val_accuracy: 0.6352 - 480ms/epoch - 4ms/step\n",
            "Epoch 169/175\n",
            "125/125 - 1s - loss: 0.0877 - accuracy: 0.9327 - val_loss: 4.5192 - val_accuracy: 0.6314 - 500ms/epoch - 4ms/step\n",
            "Epoch 170/175\n",
            "125/125 - 0s - loss: 0.0878 - accuracy: 0.9308 - val_loss: 4.5345 - val_accuracy: 0.6319 - 497ms/epoch - 4ms/step\n",
            "Epoch 171/175\n",
            "125/125 - 0s - loss: 0.0877 - accuracy: 0.9340 - val_loss: 4.6342 - val_accuracy: 0.6363 - 493ms/epoch - 4ms/step\n",
            "Epoch 172/175\n",
            "125/125 - 0s - loss: 0.0876 - accuracy: 0.9340 - val_loss: 4.6515 - val_accuracy: 0.6346 - 477ms/epoch - 4ms/step\n",
            "Epoch 173/175\n",
            "125/125 - 0s - loss: 0.0875 - accuracy: 0.9370 - val_loss: 4.6759 - val_accuracy: 0.6330 - 453ms/epoch - 4ms/step\n",
            "Epoch 174/175\n",
            "125/125 - 0s - loss: 0.0875 - accuracy: 0.9373 - val_loss: 4.4506 - val_accuracy: 0.6346 - 491ms/epoch - 4ms/step\n",
            "Epoch 175/175\n",
            "125/125 - 0s - loss: 0.0878 - accuracy: 0.9340 - val_loss: 4.5076 - val_accuracy: 0.6346 - 449ms/epoch - 4ms/step\n"
          ]
        },
        {
          "output_type": "execute_result",
          "data": {
            "text/plain": [
              "<keras.callbacks.History at 0x7fe8803822b0>"
            ]
          },
          "metadata": {},
          "execution_count": 36
        }
      ]
    },
    {
      "cell_type": "code",
      "source": [
        "sentence = [\n",
        "    \"HSBC board recommends shareholders vote against spin-off resolution\",\n",
        "    \"China's central bank calls for stronger defences against financial crisis\",\n",
        "    \"Shell's $70 Billion BG Deal Meets Shareholder Skepticism\",\n",
        "    \"ECB's De Guindos warns of broad risks in financial sector\",\n",
        "    \"$ESI on lows, down $1.50 to $2.50 BK a real possibility\"\n",
        "]\n",
        "\n",
        "sequences = tokenizer.texts_to_sequences(sentence)\n",
        "padded = pad_sequences(sequences, maxlen=max_length, padding = padding_type, truncating=trunc_type)\n",
        "\n",
        "for index, i in enumerate(model.predict(padded)):\n",
        "  i = list(i)\n",
        "  if i.index(max(i)) == 0:\n",
        "    print(f\"'{sentence[index]}' : Negative\")\n",
        "  elif i.index(max(i)) == 1:\n",
        "    print(f\"'{sentence[index]}' : Neutral\")\n",
        "  else:\n",
        "    print(f\"'{sentence[index]}' : Positive\")"
      ],
      "metadata": {
        "id": "t-hvLECABGTW",
        "outputId": "03da1303-cfdd-423f-80dc-40bbb6da7c2d",
        "colab": {
          "base_uri": "https://localhost:8080/"
        }
      },
      "execution_count": 34,
      "outputs": [
        {
          "output_type": "stream",
          "name": "stdout",
          "text": [
            "1/1 [==============================] - 0s 19ms/step\n",
            "'HSBC board recommends shareholders vote against spin-off resolution' : Neutral\n",
            "'China's central bank calls for stronger defences against financial crisis' : Negative\n",
            "'Shell's $70 Billion BG Deal Meets Shareholder Skepticism' : Negative\n",
            "'ECB's De Guindos warns of broad risks in financial sector' : Neutral\n",
            "'$ESI on lows, down $1.50 to $2.50 BK a real possibility' : Negative\n"
          ]
        }
      ]
    },
    {
      "cell_type": "code",
      "source": [
        "model.predict(padded)"
      ],
      "metadata": {
        "id": "slKFvZMdVhrB",
        "outputId": "bfe6588e-340f-4474-daef-4ef535d3148e",
        "colab": {
          "base_uri": "https://localhost:8080/"
        }
      },
      "execution_count": 33,
      "outputs": [
        {
          "output_type": "stream",
          "name": "stdout",
          "text": [
            "1/1 [==============================] - 0s 18ms/step\n"
          ]
        },
        {
          "output_type": "execute_result",
          "data": {
            "text/plain": [
              "array([[1.3715116e-04, 9.9985647e-01, 6.2864310e-06],\n",
              "       [9.5621061e-01, 2.7122153e-03, 4.1077085e-02],\n",
              "       [4.1218314e-07, 9.2735481e-01, 7.2644718e-02],\n",
              "       [5.3750828e-05, 9.9994516e-01, 1.1108704e-06],\n",
              "       [9.9996328e-01, 6.5061579e-07, 3.6085636e-05]], dtype=float32)"
            ]
          },
          "metadata": {},
          "execution_count": 33
        }
      ]
    }
  ]
}
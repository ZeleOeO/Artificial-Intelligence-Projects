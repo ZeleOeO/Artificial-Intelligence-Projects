{
  "nbformat": 4,
  "nbformat_minor": 0,
  "metadata": {
    "colab": {
      "provenance": [],
      "authorship_tag": "ABX9TyNhhfyGUpduNHlhHPI1mDUA",
      "include_colab_link": true
    },
    "kernelspec": {
      "name": "python3",
      "display_name": "Python 3"
    },
    "language_info": {
      "name": "python"
    }
  },
  "cells": [
    {
      "cell_type": "markdown",
      "metadata": {
        "id": "view-in-github",
        "colab_type": "text"
      },
      "source": [
        "<a href=\"https://colab.research.google.com/github/ZeleOeO/Artificial-Intelligence-Projects/blob/main/Gutenberg_Book_Classifier.ipynb\" target=\"_parent\"><img src=\"https://colab.research.google.com/assets/colab-badge.svg\" alt=\"Open In Colab\"/></a>"
      ]
    },
    {
      "cell_type": "markdown",
      "source": [
        "First read the csv file from the place where I kept it"
      ],
      "metadata": {
        "id": "lHVSf5eebsHO"
      }
    },
    {
      "cell_type": "code",
      "execution_count": 170,
      "metadata": {
        "colab": {
          "base_uri": "https://localhost:8080/",
          "height": 225
        },
        "id": "PHgj7397Wzew",
        "outputId": "7e218e46-ccca-40e7-851f-0f59bd2db551"
      },
      "outputs": [
        {
          "output_type": "stream",
          "name": "stdout",
          "text": [
            "(15331, 4)\n"
          ]
        },
        {
          "output_type": "execute_result",
          "data": {
            "text/plain": [
              "                                          Title  \\\n",
              "0       The Extermination of the American Bison   \n",
              "1                          Deadfalls and Snares   \n",
              "2                   Artistic Anatomy of Animals   \n",
              "3                            Birds, Illustrated   \n",
              "4  On Snake-Poison: Its Action and Its Antidote   \n",
              "\n",
              "                                     Author  \\\n",
              "0                       William T. Hornaday   \n",
              "1                             A. R. Harding   \n",
              "2                             Édouard Cuyer   \n",
              "3  Color Photography, Vol. 1, No. 1 Various   \n",
              "4                                A. Mueller   \n",
              "\n",
              "                                    Link Bookshelf  \n",
              "0  http://www.gutenberg.org/ebooks/17748    Animal  \n",
              "1  http://www.gutenberg.org/ebooks/34110    Animal  \n",
              "2  http://www.gutenberg.org/ebooks/38315    Animal  \n",
              "3  http://www.gutenberg.org/ebooks/30221    Animal  \n",
              "4  http://www.gutenberg.org/ebooks/32947    Animal  "
            ],
            "text/html": [
              "\n",
              "  <div id=\"df-569172e8-269d-4e15-a93e-eb756ee337e3\">\n",
              "    <div class=\"colab-df-container\">\n",
              "      <div>\n",
              "<style scoped>\n",
              "    .dataframe tbody tr th:only-of-type {\n",
              "        vertical-align: middle;\n",
              "    }\n",
              "\n",
              "    .dataframe tbody tr th {\n",
              "        vertical-align: top;\n",
              "    }\n",
              "\n",
              "    .dataframe thead th {\n",
              "        text-align: right;\n",
              "    }\n",
              "</style>\n",
              "<table border=\"1\" class=\"dataframe\">\n",
              "  <thead>\n",
              "    <tr style=\"text-align: right;\">\n",
              "      <th></th>\n",
              "      <th>Title</th>\n",
              "      <th>Author</th>\n",
              "      <th>Link</th>\n",
              "      <th>Bookshelf</th>\n",
              "    </tr>\n",
              "  </thead>\n",
              "  <tbody>\n",
              "    <tr>\n",
              "      <th>0</th>\n",
              "      <td>The Extermination of the American Bison</td>\n",
              "      <td>William T. Hornaday</td>\n",
              "      <td>http://www.gutenberg.org/ebooks/17748</td>\n",
              "      <td>Animal</td>\n",
              "    </tr>\n",
              "    <tr>\n",
              "      <th>1</th>\n",
              "      <td>Deadfalls and Snares</td>\n",
              "      <td>A. R. Harding</td>\n",
              "      <td>http://www.gutenberg.org/ebooks/34110</td>\n",
              "      <td>Animal</td>\n",
              "    </tr>\n",
              "    <tr>\n",
              "      <th>2</th>\n",
              "      <td>Artistic Anatomy of Animals</td>\n",
              "      <td>Édouard Cuyer</td>\n",
              "      <td>http://www.gutenberg.org/ebooks/38315</td>\n",
              "      <td>Animal</td>\n",
              "    </tr>\n",
              "    <tr>\n",
              "      <th>3</th>\n",
              "      <td>Birds, Illustrated</td>\n",
              "      <td>Color Photography, Vol. 1, No. 1 Various</td>\n",
              "      <td>http://www.gutenberg.org/ebooks/30221</td>\n",
              "      <td>Animal</td>\n",
              "    </tr>\n",
              "    <tr>\n",
              "      <th>4</th>\n",
              "      <td>On Snake-Poison: Its Action and Its Antidote</td>\n",
              "      <td>A. Mueller</td>\n",
              "      <td>http://www.gutenberg.org/ebooks/32947</td>\n",
              "      <td>Animal</td>\n",
              "    </tr>\n",
              "  </tbody>\n",
              "</table>\n",
              "</div>\n",
              "      <button class=\"colab-df-convert\" onclick=\"convertToInteractive('df-569172e8-269d-4e15-a93e-eb756ee337e3')\"\n",
              "              title=\"Convert this dataframe to an interactive table.\"\n",
              "              style=\"display:none;\">\n",
              "        \n",
              "  <svg xmlns=\"http://www.w3.org/2000/svg\" height=\"24px\"viewBox=\"0 0 24 24\"\n",
              "       width=\"24px\">\n",
              "    <path d=\"M0 0h24v24H0V0z\" fill=\"none\"/>\n",
              "    <path d=\"M18.56 5.44l.94 2.06.94-2.06 2.06-.94-2.06-.94-.94-2.06-.94 2.06-2.06.94zm-11 1L8.5 8.5l.94-2.06 2.06-.94-2.06-.94L8.5 2.5l-.94 2.06-2.06.94zm10 10l.94 2.06.94-2.06 2.06-.94-2.06-.94-.94-2.06-.94 2.06-2.06.94z\"/><path d=\"M17.41 7.96l-1.37-1.37c-.4-.4-.92-.59-1.43-.59-.52 0-1.04.2-1.43.59L10.3 9.45l-7.72 7.72c-.78.78-.78 2.05 0 2.83L4 21.41c.39.39.9.59 1.41.59.51 0 1.02-.2 1.41-.59l7.78-7.78 2.81-2.81c.8-.78.8-2.07 0-2.86zM5.41 20L4 18.59l7.72-7.72 1.47 1.35L5.41 20z\"/>\n",
              "  </svg>\n",
              "      </button>\n",
              "      \n",
              "  <style>\n",
              "    .colab-df-container {\n",
              "      display:flex;\n",
              "      flex-wrap:wrap;\n",
              "      gap: 12px;\n",
              "    }\n",
              "\n",
              "    .colab-df-convert {\n",
              "      background-color: #E8F0FE;\n",
              "      border: none;\n",
              "      border-radius: 50%;\n",
              "      cursor: pointer;\n",
              "      display: none;\n",
              "      fill: #1967D2;\n",
              "      height: 32px;\n",
              "      padding: 0 0 0 0;\n",
              "      width: 32px;\n",
              "    }\n",
              "\n",
              "    .colab-df-convert:hover {\n",
              "      background-color: #E2EBFA;\n",
              "      box-shadow: 0px 1px 2px rgba(60, 64, 67, 0.3), 0px 1px 3px 1px rgba(60, 64, 67, 0.15);\n",
              "      fill: #174EA6;\n",
              "    }\n",
              "\n",
              "    [theme=dark] .colab-df-convert {\n",
              "      background-color: #3B4455;\n",
              "      fill: #D2E3FC;\n",
              "    }\n",
              "\n",
              "    [theme=dark] .colab-df-convert:hover {\n",
              "      background-color: #434B5C;\n",
              "      box-shadow: 0px 1px 3px 1px rgba(0, 0, 0, 0.15);\n",
              "      filter: drop-shadow(0px 1px 2px rgba(0, 0, 0, 0.3));\n",
              "      fill: #FFFFFF;\n",
              "    }\n",
              "  </style>\n",
              "\n",
              "      <script>\n",
              "        const buttonEl =\n",
              "          document.querySelector('#df-569172e8-269d-4e15-a93e-eb756ee337e3 button.colab-df-convert');\n",
              "        buttonEl.style.display =\n",
              "          google.colab.kernel.accessAllowed ? 'block' : 'none';\n",
              "\n",
              "        async function convertToInteractive(key) {\n",
              "          const element = document.querySelector('#df-569172e8-269d-4e15-a93e-eb756ee337e3');\n",
              "          const dataTable =\n",
              "            await google.colab.kernel.invokeFunction('convertToInteractive',\n",
              "                                                     [key], {});\n",
              "          if (!dataTable) return;\n",
              "\n",
              "          const docLinkHtml = 'Like what you see? Visit the ' +\n",
              "            '<a target=\"_blank\" href=https://colab.research.google.com/notebooks/data_table.ipynb>data table notebook</a>'\n",
              "            + ' to learn more about interactive tables.';\n",
              "          element.innerHTML = '';\n",
              "          dataTable['output_type'] = 'display_data';\n",
              "          await google.colab.output.renderOutput(dataTable, element);\n",
              "          const docLink = document.createElement('div');\n",
              "          docLink.innerHTML = docLinkHtml;\n",
              "          element.appendChild(docLink);\n",
              "        }\n",
              "      </script>\n",
              "    </div>\n",
              "  </div>\n",
              "  "
            ]
          },
          "metadata": {},
          "execution_count": 170
        }
      ],
      "source": [
        "import pandas as pd\n",
        "\n",
        "df = pd.read_csv(\"/content/gutenberg_metadata.csv\")\n",
        "\n",
        "print(df.shape)\n",
        "df.head()"
      ]
    },
    {
      "cell_type": "markdown",
      "source": [
        "Remove all NA stuff"
      ],
      "metadata": {
        "id": "qZ7Q3B83bzyZ"
      }
    },
    {
      "cell_type": "code",
      "source": [
        "#Removed the 2 irrelevant coumns\n",
        "df = df.drop(\n",
        "    labels=[\"Author\", \"Link\"],\n",
        "    axis=1\n",
        ")\n",
        "#Removed any row with an empty cell in it, with our new dataset\n",
        "df=df.dropna()\n",
        "\n",
        "#Removedthe category named 6, cause it doesn't make any sense...\n",
        "df=df[df.Bookshelf!=\"6\"]\n",
        "\n",
        "print(df.shape)\n",
        "df.head()"
      ],
      "metadata": {
        "colab": {
          "base_uri": "https://localhost:8080/",
          "height": 225
        },
        "id": "8R6wX-PCXUyh",
        "outputId": "aab94b61-a0a7-4c8a-f6d0-b594faa238d7"
      },
      "execution_count": 171,
      "outputs": [
        {
          "output_type": "stream",
          "name": "stdout",
          "text": [
            "(2707, 2)\n"
          ]
        },
        {
          "output_type": "execute_result",
          "data": {
            "text/plain": [
              "                                          Title Bookshelf\n",
              "0       The Extermination of the American Bison    Animal\n",
              "1                          Deadfalls and Snares    Animal\n",
              "2                   Artistic Anatomy of Animals    Animal\n",
              "3                            Birds, Illustrated    Animal\n",
              "4  On Snake-Poison: Its Action and Its Antidote    Animal"
            ],
            "text/html": [
              "\n",
              "  <div id=\"df-8f717669-64ce-462f-9fca-a6bf9b200f2c\">\n",
              "    <div class=\"colab-df-container\">\n",
              "      <div>\n",
              "<style scoped>\n",
              "    .dataframe tbody tr th:only-of-type {\n",
              "        vertical-align: middle;\n",
              "    }\n",
              "\n",
              "    .dataframe tbody tr th {\n",
              "        vertical-align: top;\n",
              "    }\n",
              "\n",
              "    .dataframe thead th {\n",
              "        text-align: right;\n",
              "    }\n",
              "</style>\n",
              "<table border=\"1\" class=\"dataframe\">\n",
              "  <thead>\n",
              "    <tr style=\"text-align: right;\">\n",
              "      <th></th>\n",
              "      <th>Title</th>\n",
              "      <th>Bookshelf</th>\n",
              "    </tr>\n",
              "  </thead>\n",
              "  <tbody>\n",
              "    <tr>\n",
              "      <th>0</th>\n",
              "      <td>The Extermination of the American Bison</td>\n",
              "      <td>Animal</td>\n",
              "    </tr>\n",
              "    <tr>\n",
              "      <th>1</th>\n",
              "      <td>Deadfalls and Snares</td>\n",
              "      <td>Animal</td>\n",
              "    </tr>\n",
              "    <tr>\n",
              "      <th>2</th>\n",
              "      <td>Artistic Anatomy of Animals</td>\n",
              "      <td>Animal</td>\n",
              "    </tr>\n",
              "    <tr>\n",
              "      <th>3</th>\n",
              "      <td>Birds, Illustrated</td>\n",
              "      <td>Animal</td>\n",
              "    </tr>\n",
              "    <tr>\n",
              "      <th>4</th>\n",
              "      <td>On Snake-Poison: Its Action and Its Antidote</td>\n",
              "      <td>Animal</td>\n",
              "    </tr>\n",
              "  </tbody>\n",
              "</table>\n",
              "</div>\n",
              "      <button class=\"colab-df-convert\" onclick=\"convertToInteractive('df-8f717669-64ce-462f-9fca-a6bf9b200f2c')\"\n",
              "              title=\"Convert this dataframe to an interactive table.\"\n",
              "              style=\"display:none;\">\n",
              "        \n",
              "  <svg xmlns=\"http://www.w3.org/2000/svg\" height=\"24px\"viewBox=\"0 0 24 24\"\n",
              "       width=\"24px\">\n",
              "    <path d=\"M0 0h24v24H0V0z\" fill=\"none\"/>\n",
              "    <path d=\"M18.56 5.44l.94 2.06.94-2.06 2.06-.94-2.06-.94-.94-2.06-.94 2.06-2.06.94zm-11 1L8.5 8.5l.94-2.06 2.06-.94-2.06-.94L8.5 2.5l-.94 2.06-2.06.94zm10 10l.94 2.06.94-2.06 2.06-.94-2.06-.94-.94-2.06-.94 2.06-2.06.94z\"/><path d=\"M17.41 7.96l-1.37-1.37c-.4-.4-.92-.59-1.43-.59-.52 0-1.04.2-1.43.59L10.3 9.45l-7.72 7.72c-.78.78-.78 2.05 0 2.83L4 21.41c.39.39.9.59 1.41.59.51 0 1.02-.2 1.41-.59l7.78-7.78 2.81-2.81c.8-.78.8-2.07 0-2.86zM5.41 20L4 18.59l7.72-7.72 1.47 1.35L5.41 20z\"/>\n",
              "  </svg>\n",
              "      </button>\n",
              "      \n",
              "  <style>\n",
              "    .colab-df-container {\n",
              "      display:flex;\n",
              "      flex-wrap:wrap;\n",
              "      gap: 12px;\n",
              "    }\n",
              "\n",
              "    .colab-df-convert {\n",
              "      background-color: #E8F0FE;\n",
              "      border: none;\n",
              "      border-radius: 50%;\n",
              "      cursor: pointer;\n",
              "      display: none;\n",
              "      fill: #1967D2;\n",
              "      height: 32px;\n",
              "      padding: 0 0 0 0;\n",
              "      width: 32px;\n",
              "    }\n",
              "\n",
              "    .colab-df-convert:hover {\n",
              "      background-color: #E2EBFA;\n",
              "      box-shadow: 0px 1px 2px rgba(60, 64, 67, 0.3), 0px 1px 3px 1px rgba(60, 64, 67, 0.15);\n",
              "      fill: #174EA6;\n",
              "    }\n",
              "\n",
              "    [theme=dark] .colab-df-convert {\n",
              "      background-color: #3B4455;\n",
              "      fill: #D2E3FC;\n",
              "    }\n",
              "\n",
              "    [theme=dark] .colab-df-convert:hover {\n",
              "      background-color: #434B5C;\n",
              "      box-shadow: 0px 1px 3px 1px rgba(0, 0, 0, 0.15);\n",
              "      filter: drop-shadow(0px 1px 2px rgba(0, 0, 0, 0.3));\n",
              "      fill: #FFFFFF;\n",
              "    }\n",
              "  </style>\n",
              "\n",
              "      <script>\n",
              "        const buttonEl =\n",
              "          document.querySelector('#df-8f717669-64ce-462f-9fca-a6bf9b200f2c button.colab-df-convert');\n",
              "        buttonEl.style.display =\n",
              "          google.colab.kernel.accessAllowed ? 'block' : 'none';\n",
              "\n",
              "        async function convertToInteractive(key) {\n",
              "          const element = document.querySelector('#df-8f717669-64ce-462f-9fca-a6bf9b200f2c');\n",
              "          const dataTable =\n",
              "            await google.colab.kernel.invokeFunction('convertToInteractive',\n",
              "                                                     [key], {});\n",
              "          if (!dataTable) return;\n",
              "\n",
              "          const docLinkHtml = 'Like what you see? Visit the ' +\n",
              "            '<a target=\"_blank\" href=https://colab.research.google.com/notebooks/data_table.ipynb>data table notebook</a>'\n",
              "            + ' to learn more about interactive tables.';\n",
              "          element.innerHTML = '';\n",
              "          dataTable['output_type'] = 'display_data';\n",
              "          await google.colab.output.renderOutput(dataTable, element);\n",
              "          const docLink = document.createElement('div');\n",
              "          docLink.innerHTML = docLinkHtml;\n",
              "          element.appendChild(docLink);\n",
              "        }\n",
              "      </script>\n",
              "    </div>\n",
              "  </div>\n",
              "  "
            ]
          },
          "metadata": {},
          "execution_count": 171
        }
      ]
    },
    {
      "cell_type": "markdown",
      "source": [
        "Numerization of the classifications"
      ],
      "metadata": {
        "id": "AU70zEh_cPGX"
      }
    },
    {
      "cell_type": "code",
      "source": [
        "#Turned it into a set so that each element won't be duplicated\n",
        "classes = set(df.Bookshelf)\n",
        "\n",
        "#Created a dictionary to use to map each element to the other\n",
        "mapping = {}\n",
        "\n",
        "#Looped through the set and added each element with it's index as it's numeric substitute/value\n",
        "for index, value in enumerate(classes):\n",
        "  mapping[value]=index\n",
        "\n",
        "#Created a new column in the dataframe with the numeric forms\n",
        "df[\"label_num\"] = df.Bookshelf.map(\n",
        "    mapping\n",
        ")\n",
        "df"
      ],
      "metadata": {
        "colab": {
          "base_uri": "https://localhost:8080/",
          "height": 424
        },
        "id": "4tiuC5jYXbw7",
        "outputId": "53be16e1-a0c1-4694-fbfa-295c4e444455"
      },
      "execution_count": 172,
      "outputs": [
        {
          "output_type": "execute_result",
          "data": {
            "text/plain": [
              "                                                  Title Bookshelf  label_num\n",
              "0               The Extermination of the American Bison    Animal        104\n",
              "1                                  Deadfalls and Snares    Animal        104\n",
              "2                           Artistic Anatomy of Animals    Animal        104\n",
              "3                                    Birds, Illustrated    Animal        104\n",
              "4          On Snake-Poison: Its Action and Its Antidote    Animal        104\n",
              "...                                                 ...       ...        ...\n",
              "2727  Campaign Pictures of the War in South Africa (...      Boer         10\n",
              "2728                 Lord Milner's Work in South Africa      Boer         10\n",
              "2729                             The Relief of Mafeking      Boer         10\n",
              "2730                          The Boer in Peace and War      Boer         10\n",
              "2731        Story of the War in South Africa, 1899-1900      Boer         10\n",
              "\n",
              "[2707 rows x 3 columns]"
            ],
            "text/html": [
              "\n",
              "  <div id=\"df-42171f52-19de-4e77-97ad-75e66f1b0fa5\">\n",
              "    <div class=\"colab-df-container\">\n",
              "      <div>\n",
              "<style scoped>\n",
              "    .dataframe tbody tr th:only-of-type {\n",
              "        vertical-align: middle;\n",
              "    }\n",
              "\n",
              "    .dataframe tbody tr th {\n",
              "        vertical-align: top;\n",
              "    }\n",
              "\n",
              "    .dataframe thead th {\n",
              "        text-align: right;\n",
              "    }\n",
              "</style>\n",
              "<table border=\"1\" class=\"dataframe\">\n",
              "  <thead>\n",
              "    <tr style=\"text-align: right;\">\n",
              "      <th></th>\n",
              "      <th>Title</th>\n",
              "      <th>Bookshelf</th>\n",
              "      <th>label_num</th>\n",
              "    </tr>\n",
              "  </thead>\n",
              "  <tbody>\n",
              "    <tr>\n",
              "      <th>0</th>\n",
              "      <td>The Extermination of the American Bison</td>\n",
              "      <td>Animal</td>\n",
              "      <td>104</td>\n",
              "    </tr>\n",
              "    <tr>\n",
              "      <th>1</th>\n",
              "      <td>Deadfalls and Snares</td>\n",
              "      <td>Animal</td>\n",
              "      <td>104</td>\n",
              "    </tr>\n",
              "    <tr>\n",
              "      <th>2</th>\n",
              "      <td>Artistic Anatomy of Animals</td>\n",
              "      <td>Animal</td>\n",
              "      <td>104</td>\n",
              "    </tr>\n",
              "    <tr>\n",
              "      <th>3</th>\n",
              "      <td>Birds, Illustrated</td>\n",
              "      <td>Animal</td>\n",
              "      <td>104</td>\n",
              "    </tr>\n",
              "    <tr>\n",
              "      <th>4</th>\n",
              "      <td>On Snake-Poison: Its Action and Its Antidote</td>\n",
              "      <td>Animal</td>\n",
              "      <td>104</td>\n",
              "    </tr>\n",
              "    <tr>\n",
              "      <th>...</th>\n",
              "      <td>...</td>\n",
              "      <td>...</td>\n",
              "      <td>...</td>\n",
              "    </tr>\n",
              "    <tr>\n",
              "      <th>2727</th>\n",
              "      <td>Campaign Pictures of the War in South Africa (...</td>\n",
              "      <td>Boer</td>\n",
              "      <td>10</td>\n",
              "    </tr>\n",
              "    <tr>\n",
              "      <th>2728</th>\n",
              "      <td>Lord Milner's Work in South Africa</td>\n",
              "      <td>Boer</td>\n",
              "      <td>10</td>\n",
              "    </tr>\n",
              "    <tr>\n",
              "      <th>2729</th>\n",
              "      <td>The Relief of Mafeking</td>\n",
              "      <td>Boer</td>\n",
              "      <td>10</td>\n",
              "    </tr>\n",
              "    <tr>\n",
              "      <th>2730</th>\n",
              "      <td>The Boer in Peace and War</td>\n",
              "      <td>Boer</td>\n",
              "      <td>10</td>\n",
              "    </tr>\n",
              "    <tr>\n",
              "      <th>2731</th>\n",
              "      <td>Story of the War in South Africa, 1899-1900</td>\n",
              "      <td>Boer</td>\n",
              "      <td>10</td>\n",
              "    </tr>\n",
              "  </tbody>\n",
              "</table>\n",
              "<p>2707 rows × 3 columns</p>\n",
              "</div>\n",
              "      <button class=\"colab-df-convert\" onclick=\"convertToInteractive('df-42171f52-19de-4e77-97ad-75e66f1b0fa5')\"\n",
              "              title=\"Convert this dataframe to an interactive table.\"\n",
              "              style=\"display:none;\">\n",
              "        \n",
              "  <svg xmlns=\"http://www.w3.org/2000/svg\" height=\"24px\"viewBox=\"0 0 24 24\"\n",
              "       width=\"24px\">\n",
              "    <path d=\"M0 0h24v24H0V0z\" fill=\"none\"/>\n",
              "    <path d=\"M18.56 5.44l.94 2.06.94-2.06 2.06-.94-2.06-.94-.94-2.06-.94 2.06-2.06.94zm-11 1L8.5 8.5l.94-2.06 2.06-.94-2.06-.94L8.5 2.5l-.94 2.06-2.06.94zm10 10l.94 2.06.94-2.06 2.06-.94-2.06-.94-.94-2.06-.94 2.06-2.06.94z\"/><path d=\"M17.41 7.96l-1.37-1.37c-.4-.4-.92-.59-1.43-.59-.52 0-1.04.2-1.43.59L10.3 9.45l-7.72 7.72c-.78.78-.78 2.05 0 2.83L4 21.41c.39.39.9.59 1.41.59.51 0 1.02-.2 1.41-.59l7.78-7.78 2.81-2.81c.8-.78.8-2.07 0-2.86zM5.41 20L4 18.59l7.72-7.72 1.47 1.35L5.41 20z\"/>\n",
              "  </svg>\n",
              "      </button>\n",
              "      \n",
              "  <style>\n",
              "    .colab-df-container {\n",
              "      display:flex;\n",
              "      flex-wrap:wrap;\n",
              "      gap: 12px;\n",
              "    }\n",
              "\n",
              "    .colab-df-convert {\n",
              "      background-color: #E8F0FE;\n",
              "      border: none;\n",
              "      border-radius: 50%;\n",
              "      cursor: pointer;\n",
              "      display: none;\n",
              "      fill: #1967D2;\n",
              "      height: 32px;\n",
              "      padding: 0 0 0 0;\n",
              "      width: 32px;\n",
              "    }\n",
              "\n",
              "    .colab-df-convert:hover {\n",
              "      background-color: #E2EBFA;\n",
              "      box-shadow: 0px 1px 2px rgba(60, 64, 67, 0.3), 0px 1px 3px 1px rgba(60, 64, 67, 0.15);\n",
              "      fill: #174EA6;\n",
              "    }\n",
              "\n",
              "    [theme=dark] .colab-df-convert {\n",
              "      background-color: #3B4455;\n",
              "      fill: #D2E3FC;\n",
              "    }\n",
              "\n",
              "    [theme=dark] .colab-df-convert:hover {\n",
              "      background-color: #434B5C;\n",
              "      box-shadow: 0px 1px 3px 1px rgba(0, 0, 0, 0.15);\n",
              "      filter: drop-shadow(0px 1px 2px rgba(0, 0, 0, 0.3));\n",
              "      fill: #FFFFFF;\n",
              "    }\n",
              "  </style>\n",
              "\n",
              "      <script>\n",
              "        const buttonEl =\n",
              "          document.querySelector('#df-42171f52-19de-4e77-97ad-75e66f1b0fa5 button.colab-df-convert');\n",
              "        buttonEl.style.display =\n",
              "          google.colab.kernel.accessAllowed ? 'block' : 'none';\n",
              "\n",
              "        async function convertToInteractive(key) {\n",
              "          const element = document.querySelector('#df-42171f52-19de-4e77-97ad-75e66f1b0fa5');\n",
              "          const dataTable =\n",
              "            await google.colab.kernel.invokeFunction('convertToInteractive',\n",
              "                                                     [key], {});\n",
              "          if (!dataTable) return;\n",
              "\n",
              "          const docLinkHtml = 'Like what you see? Visit the ' +\n",
              "            '<a target=\"_blank\" href=https://colab.research.google.com/notebooks/data_table.ipynb>data table notebook</a>'\n",
              "            + ' to learn more about interactive tables.';\n",
              "          element.innerHTML = '';\n",
              "          dataTable['output_type'] = 'display_data';\n",
              "          await google.colab.output.renderOutput(dataTable, element);\n",
              "          const docLink = document.createElement('div');\n",
              "          docLink.innerHTML = docLinkHtml;\n",
              "          element.appendChild(docLink);\n",
              "        }\n",
              "      </script>\n",
              "    </div>\n",
              "  </div>\n",
              "  "
            ]
          },
          "metadata": {},
          "execution_count": 172
        }
      ]
    },
    {
      "cell_type": "markdown",
      "source": [
        "Preprocessing Function"
      ],
      "metadata": {
        "id": "kvYk0Bk2gYFl"
      }
    },
    {
      "cell_type": "code",
      "source": [
        "import spacy\n",
        "\n",
        "import spacy.cli\n",
        "\n",
        "spacy.cli.download(\"en_core_web_lg\")\n",
        "\n",
        "\n",
        "#using the large model cause it will be more accurate\n",
        "nlp = spacy.load(\"en_core_web_lg\")\n",
        "\n",
        "#Creating the function\n",
        "def preprocess(text):\n",
        "  doc = nlp(text)\n",
        "\n",
        "  filtered_tokens=[]\n",
        "\n",
        "  #loops through the sentence/doc\n",
        "  for token in doc:\n",
        "    #checks if it's a stopword or punctuation and \"removes it\"\n",
        "    if token.is_stop or token.is_punct:\n",
        "      continue\n",
        "    #lemmatizes the rest of the tokens  \n",
        "    filtered_tokens.append(token.lemma_)\n",
        "  \n",
        "  #returns the string form\n",
        "  return \" \".join(filtered_tokens)"
      ],
      "metadata": {
        "colab": {
          "base_uri": "https://localhost:8080/"
        },
        "id": "uMcb7NCScc8K",
        "outputId": "4522762e-5e08-4deb-a65b-f35d02c45bfb"
      },
      "execution_count": 173,
      "outputs": [
        {
          "output_type": "stream",
          "name": "stdout",
          "text": [
            "\u001b[38;5;2m✔ Download and installation successful\u001b[0m\n",
            "You can now load the package via spacy.load('en_core_web_lg')\n"
          ]
        }
      ]
    },
    {
      "cell_type": "markdown",
      "source": [
        "Create preprocessed column"
      ],
      "metadata": {
        "id": "hrycEe4HjLp0"
      }
    },
    {
      "cell_type": "code",
      "source": [
        "#Convert the preprocesseed text to vector form in 300 by 300 form\n",
        "df[\"text\"] = df.Title.apply(preprocess).apply(lambda x: nlp(x).vector)"
      ],
      "metadata": {
        "id": "g-V1Ru7qhCe-"
      },
      "execution_count": 174,
      "outputs": []
    },
    {
      "cell_type": "code",
      "source": [
        "from sklearn.model_selection import train_test_split\n",
        "\n",
        "#this is going to split the data into training and test data\n",
        "#df.text would be our x\n",
        "#df.label_num would be our y\n",
        "#test size is the percentage of our data that would be used for testing, which is 20%\n",
        "#random_state shuffles it, 2023 is just a random key\n",
        "x_train, x_test, y_train, y_test = train_test_split(\n",
        "    df.text,\n",
        "    df.label_num,\n",
        "    test_size = 0.2,\n",
        "    random_state = 2022\n",
        ")"
      ],
      "metadata": {
        "id": "WDHFGEMNj0Bj"
      },
      "execution_count": 175,
      "outputs": []
    },
    {
      "cell_type": "markdown",
      "source": [
        "We convert the x data to positive, cause it doens't train negatives\n"
      ],
      "metadata": {
        "id": "A_mAWJ0_s-TQ"
      }
    },
    {
      "cell_type": "code",
      "source": [
        "# Convert to positive\n",
        "from sklearn.preprocessing import MinMaxScaler\n",
        "import numpy as np\n",
        "\n",
        "scaler = MinMaxScaler()\n",
        "\n",
        "train_scaler = scaler.fit_transform(np.stack(x_train))\n",
        "test_scaler = scaler.fit_transform(np.stack(x_test))"
      ],
      "metadata": {
        "id": "XNk3Oz9Ll8PN"
      },
      "execution_count": 176,
      "outputs": []
    },
    {
      "cell_type": "code",
      "source": [
        "from sklearn.neighbors import KNeighborsClassifier\n",
        "import numpy as np\n",
        "\n",
        "from sklearn.metrics import classification_report\n",
        "\n",
        "kn = KNeighborsClassifier()\n",
        "kn.fit(train_scaler, y_train)"
      ],
      "metadata": {
        "colab": {
          "base_uri": "https://localhost:8080/",
          "height": 75
        },
        "id": "fCFOPy2roKTP",
        "outputId": "8760003d-506c-4530-c5ef-f000bc6185dd"
      },
      "execution_count": 177,
      "outputs": [
        {
          "output_type": "execute_result",
          "data": {
            "text/plain": [
              "KNeighborsClassifier()"
            ],
            "text/html": [
              "<style>#sk-container-id-4 {color: black;background-color: white;}#sk-container-id-4 pre{padding: 0;}#sk-container-id-4 div.sk-toggleable {background-color: white;}#sk-container-id-4 label.sk-toggleable__label {cursor: pointer;display: block;width: 100%;margin-bottom: 0;padding: 0.3em;box-sizing: border-box;text-align: center;}#sk-container-id-4 label.sk-toggleable__label-arrow:before {content: \"▸\";float: left;margin-right: 0.25em;color: #696969;}#sk-container-id-4 label.sk-toggleable__label-arrow:hover:before {color: black;}#sk-container-id-4 div.sk-estimator:hover label.sk-toggleable__label-arrow:before {color: black;}#sk-container-id-4 div.sk-toggleable__content {max-height: 0;max-width: 0;overflow: hidden;text-align: left;background-color: #f0f8ff;}#sk-container-id-4 div.sk-toggleable__content pre {margin: 0.2em;color: black;border-radius: 0.25em;background-color: #f0f8ff;}#sk-container-id-4 input.sk-toggleable__control:checked~div.sk-toggleable__content {max-height: 200px;max-width: 100%;overflow: auto;}#sk-container-id-4 input.sk-toggleable__control:checked~label.sk-toggleable__label-arrow:before {content: \"▾\";}#sk-container-id-4 div.sk-estimator input.sk-toggleable__control:checked~label.sk-toggleable__label {background-color: #d4ebff;}#sk-container-id-4 div.sk-label input.sk-toggleable__control:checked~label.sk-toggleable__label {background-color: #d4ebff;}#sk-container-id-4 input.sk-hidden--visually {border: 0;clip: rect(1px 1px 1px 1px);clip: rect(1px, 1px, 1px, 1px);height: 1px;margin: -1px;overflow: hidden;padding: 0;position: absolute;width: 1px;}#sk-container-id-4 div.sk-estimator {font-family: monospace;background-color: #f0f8ff;border: 1px dotted black;border-radius: 0.25em;box-sizing: border-box;margin-bottom: 0.5em;}#sk-container-id-4 div.sk-estimator:hover {background-color: #d4ebff;}#sk-container-id-4 div.sk-parallel-item::after {content: \"\";width: 100%;border-bottom: 1px solid gray;flex-grow: 1;}#sk-container-id-4 div.sk-label:hover label.sk-toggleable__label {background-color: #d4ebff;}#sk-container-id-4 div.sk-serial::before {content: \"\";position: absolute;border-left: 1px solid gray;box-sizing: border-box;top: 0;bottom: 0;left: 50%;z-index: 0;}#sk-container-id-4 div.sk-serial {display: flex;flex-direction: column;align-items: center;background-color: white;padding-right: 0.2em;padding-left: 0.2em;position: relative;}#sk-container-id-4 div.sk-item {position: relative;z-index: 1;}#sk-container-id-4 div.sk-parallel {display: flex;align-items: stretch;justify-content: center;background-color: white;position: relative;}#sk-container-id-4 div.sk-item::before, #sk-container-id-4 div.sk-parallel-item::before {content: \"\";position: absolute;border-left: 1px solid gray;box-sizing: border-box;top: 0;bottom: 0;left: 50%;z-index: -1;}#sk-container-id-4 div.sk-parallel-item {display: flex;flex-direction: column;z-index: 1;position: relative;background-color: white;}#sk-container-id-4 div.sk-parallel-item:first-child::after {align-self: flex-end;width: 50%;}#sk-container-id-4 div.sk-parallel-item:last-child::after {align-self: flex-start;width: 50%;}#sk-container-id-4 div.sk-parallel-item:only-child::after {width: 0;}#sk-container-id-4 div.sk-dashed-wrapped {border: 1px dashed gray;margin: 0 0.4em 0.5em 0.4em;box-sizing: border-box;padding-bottom: 0.4em;background-color: white;}#sk-container-id-4 div.sk-label label {font-family: monospace;font-weight: bold;display: inline-block;line-height: 1.2em;}#sk-container-id-4 div.sk-label-container {text-align: center;}#sk-container-id-4 div.sk-container {/* jupyter's `normalize.less` sets `[hidden] { display: none; }` but bootstrap.min.css set `[hidden] { display: none !important; }` so we also need the `!important` here to be able to override the default hidden behavior on the sphinx rendered scikit-learn.org. See: https://github.com/scikit-learn/scikit-learn/issues/21755 */display: inline-block !important;position: relative;}#sk-container-id-4 div.sk-text-repr-fallback {display: none;}</style><div id=\"sk-container-id-4\" class=\"sk-top-container\"><div class=\"sk-text-repr-fallback\"><pre>KNeighborsClassifier()</pre><b>In a Jupyter environment, please rerun this cell to show the HTML representation or trust the notebook. <br />On GitHub, the HTML representation is unable to render, please try loading this page with nbviewer.org.</b></div><div class=\"sk-container\" hidden><div class=\"sk-item\"><div class=\"sk-estimator sk-toggleable\"><input class=\"sk-toggleable__control sk-hidden--visually\" id=\"sk-estimator-id-4\" type=\"checkbox\" checked><label for=\"sk-estimator-id-4\" class=\"sk-toggleable__label sk-toggleable__label-arrow\">KNeighborsClassifier</label><div class=\"sk-toggleable__content\"><pre>KNeighborsClassifier()</pre></div></div></div></div></div>"
            ]
          },
          "metadata": {},
          "execution_count": 177
        }
      ]
    },
    {
      "cell_type": "code",
      "source": [
        "y_pred = kn.predict(test_scaler)\n",
        "test_scaler.shape"
      ],
      "metadata": {
        "colab": {
          "base_uri": "https://localhost:8080/"
        },
        "id": "M51ZeQCQsMdb",
        "outputId": "97a42842-ee2a-45a6-b601-da609f11e7dc"
      },
      "execution_count": 178,
      "outputs": [
        {
          "output_type": "execute_result",
          "data": {
            "text/plain": [
              "(542, 300)"
            ]
          },
          "metadata": {},
          "execution_count": 178
        }
      ]
    },
    {
      "cell_type": "code",
      "source": [
        "print(classification_report(np.stack(y_test), y_pred))"
      ],
      "metadata": {
        "colab": {
          "base_uri": "https://localhost:8080/"
        },
        "id": "pJkhau9bsV7n",
        "outputId": "f207a906-9f4e-44b1-9260-28ade4c6a261"
      },
      "execution_count": 179,
      "outputs": [
        {
          "output_type": "stream",
          "name": "stdout",
          "text": [
            "              precision    recall  f1-score   support\n",
            "\n",
            "           0       0.30      0.64      0.41        11\n",
            "           1       0.23      0.60      0.33         5\n",
            "           2       0.00      0.00      0.00         0\n",
            "           3       0.40      1.00      0.57         4\n",
            "           4       0.11      0.25      0.15         4\n",
            "           5       0.50      0.43      0.46         7\n",
            "           6       0.00      0.00      0.00         1\n",
            "           7       0.38      0.50      0.43         6\n",
            "           8       0.33      0.50      0.40         8\n",
            "           9       0.00      0.00      0.00         0\n",
            "          10       0.33      0.80      0.47         5\n",
            "          11       0.62      0.81      0.70        16\n",
            "          12       0.40      1.00      0.57         2\n",
            "          13       0.08      0.33      0.13         3\n",
            "          14       0.33      0.33      0.33         3\n",
            "          15       0.42      0.71      0.53         7\n",
            "          16       0.50      1.00      0.67         1\n",
            "          17       0.00      0.00      0.00         2\n",
            "          18       0.00      0.00      0.00         2\n",
            "          19       0.33      0.43      0.38         7\n",
            "          20       0.00      0.00      0.00         1\n",
            "          21       0.11      0.25      0.15         4\n",
            "          22       0.00      0.00      0.00         7\n",
            "          23       0.50      0.50      0.50         2\n",
            "          24       0.40      0.22      0.29         9\n",
            "          25       0.00      0.00      0.00         4\n",
            "          26       1.00      0.75      0.86         4\n",
            "          27       0.00      0.00      0.00         3\n",
            "          28       0.00      0.00      0.00         5\n",
            "          29       0.00      0.00      0.00         3\n",
            "          30       0.19      0.33      0.24         9\n",
            "          31       0.00      0.00      0.00         2\n",
            "          32       0.23      0.43      0.30         7\n",
            "          33       0.20      0.20      0.20         5\n",
            "          34       0.00      0.00      0.00         2\n",
            "          35       0.50      1.00      0.67         4\n",
            "          36       0.00      0.00      0.00         3\n",
            "          37       0.00      0.00      0.00         0\n",
            "          38       0.00      0.00      0.00         8\n",
            "          39       0.00      0.00      0.00         1\n",
            "          40       0.00      0.00      0.00         3\n",
            "          41       0.75      0.75      0.75         4\n",
            "          42       0.00      0.00      0.00         1\n",
            "          43       0.14      0.33      0.20         3\n",
            "          45       0.00      0.00      0.00         4\n",
            "          46       0.00      0.00      0.00         1\n",
            "          47       0.00      0.00      0.00         6\n",
            "          48       0.33      0.25      0.29         4\n",
            "          49       0.27      0.60      0.37         5\n",
            "          50       0.00      0.00      0.00         3\n",
            "          51       0.43      0.60      0.50         5\n",
            "          52       0.88      1.00      0.93         7\n",
            "          53       0.00      0.00      0.00         7\n",
            "          54       0.00      0.00      0.00         5\n",
            "          55       0.00      0.00      0.00         1\n",
            "          56       0.33      0.25      0.29         4\n",
            "          57       0.00      0.00      0.00         1\n",
            "          58       0.50      0.17      0.25         6\n",
            "          59       0.25      0.20      0.22         5\n",
            "          60       0.28      0.37      0.32        35\n",
            "          61       1.00      0.80      0.89         5\n",
            "          62       0.33      0.25      0.29         4\n",
            "          63       0.00      0.00      0.00         6\n",
            "          64       1.00      0.29      0.44         7\n",
            "          65       0.67      0.29      0.40         7\n",
            "          66       1.00      1.00      1.00         1\n",
            "          67       0.00      0.00      0.00         6\n",
            "          68       0.00      0.00      0.00         6\n",
            "          69       0.00      0.00      0.00         5\n",
            "          70       0.00      0.00      0.00         3\n",
            "          71       0.00      0.00      0.00         3\n",
            "          73       0.00      0.00      0.00         1\n",
            "          74       0.25      0.50      0.33         4\n",
            "          76       0.25      1.00      0.40         1\n",
            "          77       0.00      0.00      0.00         5\n",
            "          78       1.00      0.20      0.33         5\n",
            "          79       0.50      0.40      0.44         5\n",
            "          80       0.85      1.00      0.92        11\n",
            "          81       0.60      0.23      0.33        13\n",
            "          82       0.25      0.33      0.29         3\n",
            "          83       0.00      0.00      0.00         4\n",
            "          84       0.00      0.00      0.00         6\n",
            "          85       0.75      0.50      0.60         6\n",
            "          86       0.00      0.00      0.00         4\n",
            "          87       0.00      0.00      0.00         7\n",
            "          88       0.00      0.00      0.00         4\n",
            "          89       0.00      0.00      0.00         3\n",
            "          90       0.00      0.00      0.00         6\n",
            "          91       0.00      0.00      0.00         2\n",
            "          92       0.50      0.17      0.25         6\n",
            "          93       1.00      0.25      0.40         4\n",
            "          94       0.50      0.50      0.50         4\n",
            "          95       1.00      0.33      0.50         3\n",
            "          96       1.00      0.25      0.40         4\n",
            "          97       0.83      1.00      0.91         5\n",
            "          98       1.00      0.14      0.25         7\n",
            "          99       0.00      0.00      0.00        12\n",
            "         100       0.00      0.00      0.00         2\n",
            "         101       0.67      0.40      0.50         5\n",
            "         102       0.00      0.00      0.00         4\n",
            "         103       0.00      0.00      0.00         7\n",
            "         104       0.00      0.00      0.00         2\n",
            "         105       0.00      0.00      0.00         2\n",
            "         106       0.67      0.89      0.76        18\n",
            "         108       0.50      1.00      0.67         3\n",
            "         109       0.00      0.00      0.00         1\n",
            "         110       0.00      0.00      0.00         4\n",
            "         111       0.33      0.20      0.25         5\n",
            "         112       0.00      0.00      0.00         6\n",
            "         113       0.29      0.50      0.36         4\n",
            "         115       0.00      0.00      0.00         3\n",
            "         116       0.00      0.00      0.00         1\n",
            "\n",
            "    accuracy                           0.33       542\n",
            "   macro avg       0.26      0.27      0.23       542\n",
            "weighted avg       0.33      0.33      0.29       542\n",
            "\n"
          ]
        },
        {
          "output_type": "stream",
          "name": "stderr",
          "text": [
            "/usr/local/lib/python3.9/dist-packages/sklearn/metrics/_classification.py:1344: UndefinedMetricWarning: Precision and F-score are ill-defined and being set to 0.0 in labels with no predicted samples. Use `zero_division` parameter to control this behavior.\n",
            "  _warn_prf(average, modifier, msg_start, len(result))\n",
            "/usr/local/lib/python3.9/dist-packages/sklearn/metrics/_classification.py:1344: UndefinedMetricWarning: Recall and F-score are ill-defined and being set to 0.0 in labels with no true samples. Use `zero_division` parameter to control this behavior.\n",
            "  _warn_prf(average, modifier, msg_start, len(result))\n",
            "/usr/local/lib/python3.9/dist-packages/sklearn/metrics/_classification.py:1344: UndefinedMetricWarning: Precision and F-score are ill-defined and being set to 0.0 in labels with no predicted samples. Use `zero_division` parameter to control this behavior.\n",
            "  _warn_prf(average, modifier, msg_start, len(result))\n",
            "/usr/local/lib/python3.9/dist-packages/sklearn/metrics/_classification.py:1344: UndefinedMetricWarning: Recall and F-score are ill-defined and being set to 0.0 in labels with no true samples. Use `zero_division` parameter to control this behavior.\n",
            "  _warn_prf(average, modifier, msg_start, len(result))\n",
            "/usr/local/lib/python3.9/dist-packages/sklearn/metrics/_classification.py:1344: UndefinedMetricWarning: Precision and F-score are ill-defined and being set to 0.0 in labels with no predicted samples. Use `zero_division` parameter to control this behavior.\n",
            "  _warn_prf(average, modifier, msg_start, len(result))\n",
            "/usr/local/lib/python3.9/dist-packages/sklearn/metrics/_classification.py:1344: UndefinedMetricWarning: Recall and F-score are ill-defined and being set to 0.0 in labels with no true samples. Use `zero_division` parameter to control this behavior.\n",
            "  _warn_prf(average, modifier, msg_start, len(result))\n"
          ]
        }
      ]
    },
    {
      "cell_type": "code",
      "source": [
        "#creating a function that converts it to the vector form the model was trained in\n",
        "def sentence_creator(sentence):\n",
        "  return np.stack(nlp(preprocess(sentence)).vector)\n",
        "\n",
        "# creating a function to tell\n",
        "def check_output(output):\n",
        "  for i in output:\n",
        "    for k,v in mapping.items():\n",
        "      if i == v:\n",
        "        print(k)"
      ],
      "metadata": {
        "id": "J12fIJGks1rB"
      },
      "execution_count": 180,
      "outputs": []
    },
    {
      "cell_type": "code",
      "source": [
        "np.reshape(sentence_creator(\"Book about the animal kingdom\"), (-1, 300))\n"
      ],
      "metadata": {
        "colab": {
          "base_uri": "https://localhost:8080/"
        },
        "id": "gG7o7gvnybjO",
        "outputId": "ac3a60cf-3bcc-4f94-8de0-5f5851cc92fb"
      },
      "execution_count": 181,
      "outputs": [
        {
          "output_type": "execute_result",
          "data": {
            "text/plain": [
              "array([[-0.48847   , -2.439967  , -1.8147033 , -3.4955997 ,  2.0361335 ,\n",
              "        -1.5959567 ,  1.775424  ,  1.68398   , -1.3644567 , -0.2738067 ,\n",
              "         4.820433  ,  0.3203967 , -4.42003   ,  2.4131935 ,  1.5991668 ,\n",
              "        -1.0478367 ,  4.741     , -0.18477671, -0.76379997, -0.4917333 ,\n",
              "        -2.8702335 ,  1.5681067 , -3.4155667 , -0.16772993, -1.8643332 ,\n",
              "        -1.8971367 , -2.784753  , -0.41466668, -1.4092535 ,  3.1612365 ,\n",
              "        -0.8448667 , -0.00753339,  0.22153334,  0.17293327, -1.48387   ,\n",
              "        -2.760193  ,  0.9833    ,  2.0511367 ,  0.30457667,  0.42663327,\n",
              "        -1.6830233 ,  1.1222132 , -0.6413767 ,  4.576433  ,  2.1988335 ,\n",
              "         1.8362502 ,  2.3335836 ,  0.4071034 ,  0.12576668, -1.7294668 ,\n",
              "        -1.3224334 ,  2.7850666 ,  1.5545901 , -1.9278132 , -4.6889    ,\n",
              "         0.80973333, -1.3170866 , -0.9412624 ,  3.1314068 ,  2.3527067 ,\n",
              "         0.49590334,  1.5215956 , -0.15670013,  0.0825274 ,  0.6771467 ,\n",
              "         0.39694   , -3.7889998 , -5.2422996 ,  0.9061    , -0.9671133 ,\n",
              "         0.17769992,  0.45259002, -2.4647033 , -1.3810333 ,  0.63454   ,\n",
              "         1.4206367 , -3.6019766 ,  1.9760333 , -1.2101499 ,  2.3359668 ,\n",
              "        -3.0127068 ,  2.0271966 ,  0.4099486 ,  0.90339535,  1.5202733 ,\n",
              "         1.0644867 ,  1.7642001 , -1.4690267 , -2.11309   , -0.69899994,\n",
              "        -1.2473966 ,  0.52093333,  4.1252    , -4.246467  ,  0.23854665,\n",
              "        -1.3245567 , -0.83948994,  2.0505333 , -0.8487267 , -0.42780003,\n",
              "         1.66403   ,  1.2408665 ,  2.0108001 ,  0.36863336,  0.42534396,\n",
              "        -1.1588534 , -1.0542766 , -2.3161666 ,  1.7362567 , -1.9991666 ,\n",
              "         0.8070366 ,  3.3544    ,  0.33996996,  1.1817766 ,  1.9613333 ,\n",
              "         1.5924634 , -2.3134634 , -0.32638   , -1.1682566 , -2.21606   ,\n",
              "        -1.42042   , -1.8517126 ,  0.91381   ,  0.79411   ,  0.5610867 ,\n",
              "        -2.0019    ,  0.03052338, -1.7614666 ,  0.44508672, -0.4175134 ,\n",
              "        -2.6164    ,  1.9116601 , -0.09003329, -2.4419134 , -2.5698767 ,\n",
              "         2.6445334 , -2.0040333 ,  1.267526  ,  0.6733634 , -3.7780335 ,\n",
              "        -2.4293468 , -3.7070434 , -0.9490846 ,  0.20711334,  3.1002998 ,\n",
              "         0.40311667, -2.937833  ,  1.0993263 , -1.9362001 ,  2.3109066 ,\n",
              "         2.2660668 ,  4.0856333 ,  1.1836432 , -1.74608   , -0.8888533 ,\n",
              "         1.7691234 ,  2.7616198 ,  1.9190601 , -0.41705   ,  0.12233666,\n",
              "        -0.87100905, -2.3066366 , -0.24895   ,  1.1955633 , -3.3114002 ,\n",
              "        -3.4655666 , -3.3221667 , -0.93445677,  0.23233669, -1.5725766 ,\n",
              "         2.8586    ,  0.8322    , -0.48426667,  2.3609335 ,  3.2244666 ,\n",
              "        -0.33219996,  1.46851   ,  3.12576   , -1.90881   , -2.349552  ,\n",
              "         2.1830666 , -0.4285333 ,  2.21015   , -1.6863934 ,  3.7851963 ,\n",
              "        -0.7806167 ,  0.8030934 ,  0.21884334,  4.4121337 , -0.08562005,\n",
              "        -0.5789499 , -1.4241699 , -2.374605  ,  0.13332331,  1.7456999 ,\n",
              "        -1.1352433 , -2.7591665 ,  2.7892332 ,  0.5244767 ,  6.2582335 ,\n",
              "        -0.20183332, -0.5664166 , -3.94269   ,  1.3642834 ,  2.0917134 ,\n",
              "        -3.3285    , -1.3140668 ,  1.2348967 , -0.5520267 , -2.8098996 ,\n",
              "         3.3142035 ,  2.7451465 ,  1.6484032 ,  3.047     , -0.20709999,\n",
              "         2.29      , -1.3399199 , -0.20760001,  0.21237993, -2.64663   ,\n",
              "         1.4085966 ,  0.75330997, -0.61989   ,  2.8263931 , -2.9459333 ,\n",
              "         2.168     ,  2.8929665 ,  3.6218464 ,  1.9210833 , -0.30505666,\n",
              "         0.7435567 , -2.63208   ,  0.89158994,  2.1078665 , -0.65709   ,\n",
              "         3.8068001 , -1.5047666 ,  2.9965334 , -2.0460334 ,  0.0596333 ,\n",
              "        -0.47690997, -3.45765   ,  0.9346566 ,  0.9178667 ,  1.1387666 ,\n",
              "         0.2983533 , -2.15252   ,  0.75836664,  1.2815    ,  1.4180168 ,\n",
              "        -0.1813333 , -3.1633332 , -2.3897667 , -3.4719667 , -3.0870335 ,\n",
              "        -0.6640001 , -1.14963   ,  0.8596733 , -0.17595999,  2.8075    ,\n",
              "         1.7678866 , -0.58579326,  1.4851543 , -0.684354  ,  0.19012333,\n",
              "        -0.8967366 , -2.8051999 ,  1.3854332 , -2.3198535 ,  1.6799568 ,\n",
              "         2.0266333 , -3.3217201 , -0.8923066 , -0.96378   ,  2.5579433 ,\n",
              "         0.42304668,  0.25636658, -0.39740002, -1.0502666 ,  2.3751667 ,\n",
              "         0.45128667, -2.1368668 ,  2.2632666 ,  1.2301401 ,  2.32329   ,\n",
              "         0.93799996,  1.5708333 ,  1.0148534 , -0.71311337, -1.1177334 ,\n",
              "         2.8308666 , -2.6272    ,  1.6853666 , -1.3645034 , -1.3180333 ,\n",
              "        -1.4806334 , -1.3150667 , -3.8316336 , -5.371533  ,  0.6144133 ]],\n",
              "      dtype=float32)"
            ]
          },
          "metadata": {},
          "execution_count": 181
        }
      ]
    },
    {
      "cell_type": "code",
      "source": [
        "sent = \"Arts and craft\"\n",
        "sent = np.reshape(sentence_creator(sent), (-1, 300))\n",
        "pred = kn.predict(sent)\n",
        "check_output(pred)"
      ],
      "metadata": {
        "colab": {
          "base_uri": "https://localhost:8080/"
        },
        "id": "TpJVXPFUuwZn",
        "outputId": "0d671147-bd9f-4134-b001-22cc693d4034"
      },
      "execution_count": 182,
      "outputs": [
        {
          "output_type": "stream",
          "name": "stdout",
          "text": [
            "Art\n"
          ]
        }
      ]
    }
  ]
}
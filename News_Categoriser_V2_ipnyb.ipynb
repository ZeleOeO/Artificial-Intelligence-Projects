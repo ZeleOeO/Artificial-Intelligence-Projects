{
  "nbformat": 4,
  "nbformat_minor": 0,
  "metadata": {
    "colab": {
      "provenance": [],
      "authorship_tag": "ABX9TyM0gYMbImWpxt6COODh95dk",
      "include_colab_link": true
    },
    "kernelspec": {
      "name": "python3",
      "display_name": "Python 3"
    },
    "language_info": {
      "name": "python"
    },
    "accelerator": "GPU",
    "gpuClass": "standard"
  },
  "cells": [
    {
      "cell_type": "markdown",
      "metadata": {
        "id": "view-in-github",
        "colab_type": "text"
      },
      "source": [
        "<a href=\"https://colab.research.google.com/github/ZeleOeO/Artificial-Intelligence-Projects/blob/main/News_Categoriser_V2_ipnyb.ipynb\" target=\"_parent\"><img src=\"https://colab.research.google.com/assets/colab-badge.svg\" alt=\"Open In Colab\"/></a>"
      ]
    },
    {
      "cell_type": "code",
      "execution_count": null,
      "metadata": {
        "colab": {
          "base_uri": "https://localhost:8080/"
        },
        "id": "vC--YtcgXxzr",
        "outputId": "cb0414b3-9ed5-4ffc-ba24-c995675bd098"
      },
      "outputs": [
        {
          "output_type": "execute_result",
          "data": {
            "text/plain": [
              "{'thor': 14,\n",
              " 'hathodawal': 2,\n",
              " 'is': 6,\n",
              " 'looking': 11,\n",
              " 'for': 0,\n",
              " 'job': 10,\n",
              " 'thor hathodawal': 15,\n",
              " 'hathodawal is': 3,\n",
              " 'is looking': 7,\n",
              " 'looking for': 12,\n",
              " 'for job': 1,\n",
              " 'thor hathodawal is': 16,\n",
              " 'hathodawal is looking': 4,\n",
              " 'is looking for': 8,\n",
              " 'looking for job': 13,\n",
              " 'thor hathodawal is looking': 17,\n",
              " 'hathodawal is looking for': 5,\n",
              " 'is looking for job': 9}"
            ]
          },
          "metadata": {},
          "execution_count": 1
        }
      ],
      "source": [
        "from sklearn.feature_extraction.text import CountVectorizer\n",
        "\n",
        "vec = CountVectorizer(ngram_range = (1,4))\n",
        "vec.fit([\"Thor Hathodawal is looking for a job\"])\n",
        "vec.vocabulary_"
      ]
    },
    {
      "cell_type": "code",
      "source": [
        "corpus = [\n",
        "     \"Thor ate the pizza\",\n",
        "     \"Loki is tall\",\n",
        "     \"Loki is eating pizza\"\n",
        " ] "
      ],
      "metadata": {
        "id": "2qYmexDIcKxe"
      },
      "execution_count": null,
      "outputs": []
    },
    {
      "cell_type": "code",
      "source": [
        "import spacy\n",
        "\n",
        "nlp = spacy.load(\"en_core_web_sm\")\n",
        "\n",
        "def preprocess(text):\n",
        "  doc = nlp(text)\n",
        "\n",
        "  filtered_tokens=[]\n",
        "\n",
        "  for token in doc:\n",
        "    if token.is_stop or token.is_punct:\n",
        "      continue\n",
        "    filtered_tokens.append(token.lemma_)\n",
        "  \n",
        "  return \" \".join(filtered_tokens)\n",
        "\n",
        "preprocess(\"Loki is eating pizza\")"
      ],
      "metadata": {
        "colab": {
          "base_uri": "https://localhost:8080/",
          "height": 36
        },
        "id": "n44Iv4b5d0km",
        "outputId": "0d4edf9d-ff56-41a9-e611-faceb8b11dff"
      },
      "execution_count": null,
      "outputs": [
        {
          "output_type": "execute_result",
          "data": {
            "text/plain": [
              "'Loki eat pizza'"
            ],
            "application/vnd.google.colaboratory.intrinsic+json": {
              "type": "string"
            }
          },
          "metadata": {},
          "execution_count": 3
        }
      ]
    },
    {
      "cell_type": "code",
      "source": [
        "corpus_processed = [preprocess(i) for i in corpus]\n",
        "corpus_processed"
      ],
      "metadata": {
        "colab": {
          "base_uri": "https://localhost:8080/"
        },
        "id": "uWtvGD5_ep7K",
        "outputId": "cac9864a-18da-4f56-813b-d9888dd3e5f1"
      },
      "execution_count": null,
      "outputs": [
        {
          "output_type": "execute_result",
          "data": {
            "text/plain": [
              "['thor eat pizza', 'Loki tall', 'Loki eat pizza']"
            ]
          },
          "metadata": {},
          "execution_count": 4
        }
      ]
    },
    {
      "cell_type": "code",
      "source": [
        "vec = CountVectorizer(ngram_range=(1,2))\n",
        "vec.fit(corpus_processed)\n",
        "vec.vocabulary_"
      ],
      "metadata": {
        "colab": {
          "base_uri": "https://localhost:8080/"
        },
        "id": "uUh65t16fNlv",
        "outputId": "7a1a01e0-b340-4d9c-8b61-3179fcd41de1"
      },
      "execution_count": null,
      "outputs": [
        {
          "output_type": "execute_result",
          "data": {
            "text/plain": [
              "{'thor': 7,\n",
              " 'eat': 0,\n",
              " 'pizza': 5,\n",
              " 'thor eat': 8,\n",
              " 'eat pizza': 1,\n",
              " 'loki': 2,\n",
              " 'tall': 6,\n",
              " 'loki tall': 4,\n",
              " 'loki eat': 3}"
            ]
          },
          "metadata": {},
          "execution_count": 5
        }
      ]
    },
    {
      "cell_type": "code",
      "source": [
        "vec.transform(corpus_processed).toarray()"
      ],
      "metadata": {
        "colab": {
          "base_uri": "https://localhost:8080/"
        },
        "id": "LJ-b5Njzfg_X",
        "outputId": "3f2e2a27-8925-4300-88f3-aa6ede1dd247"
      },
      "execution_count": null,
      "outputs": [
        {
          "output_type": "execute_result",
          "data": {
            "text/plain": [
              "array([[1, 1, 0, 0, 0, 1, 0, 1, 1],\n",
              "       [0, 0, 1, 0, 1, 0, 1, 0, 0],\n",
              "       [1, 1, 1, 1, 0, 1, 0, 0, 0]])"
            ]
          },
          "metadata": {},
          "execution_count": 6
        }
      ]
    },
    {
      "cell_type": "code",
      "source": [
        "import pandas as pd\n",
        "\n",
        "url=\"https://github.com/codebasics/nlp-tutorials/blob/main/11_bag_of_n_grams/news_dataset.json?raw=true\"\n",
        "df = pd.read_json(url)\n",
        "df.shape"
      ],
      "metadata": {
        "colab": {
          "base_uri": "https://localhost:8080/"
        },
        "id": "sGfyHa-egWsS",
        "outputId": "6a38f19b-4950-40f9-9094-a5000ca9fccb"
      },
      "execution_count": null,
      "outputs": [
        {
          "output_type": "execute_result",
          "data": {
            "text/plain": [
              "(12695, 2)"
            ]
          },
          "metadata": {},
          "execution_count": 7
        }
      ]
    },
    {
      "cell_type": "code",
      "source": [
        "df.category.value_counts()"
      ],
      "metadata": {
        "colab": {
          "base_uri": "https://localhost:8080/"
        },
        "id": "ILPxSZ1QiNZW",
        "outputId": "57575506-3ab1-4744-e694-c8c12679d5dc"
      },
      "execution_count": null,
      "outputs": [
        {
          "output_type": "execute_result",
          "data": {
            "text/plain": [
              "BUSINESS    4254\n",
              "SPORTS      4167\n",
              "CRIME       2893\n",
              "SCIENCE     1381\n",
              "Name: category, dtype: int64"
            ]
          },
          "metadata": {},
          "execution_count": 8
        }
      ]
    },
    {
      "cell_type": "code",
      "source": [
        "min_samples = 1381\n",
        "\n",
        "df[df.category==\"BUSINESS\"] = df[df.category==\"BUSINESS\"].sample(min_samples, random_state=2023)\n",
        "df[df.category==\"SPORTS\"] = df[df.category==\"SPORTS\"].sample(min_samples, random_state=2023)\n",
        "df[df.category==\"CRIME\"] = df[df.category==\"CRIME\"].sample(min_samples, random_state=2023)\n",
        "df = df.dropna()\n",
        "df.category.value_counts()"
      ],
      "metadata": {
        "colab": {
          "base_uri": "https://localhost:8080/"
        },
        "id": "Hcf0JSp4ib0q",
        "outputId": "4952dbd7-aece-4269-bacb-89df740334b1"
      },
      "execution_count": null,
      "outputs": [
        {
          "output_type": "execute_result",
          "data": {
            "text/plain": [
              "SCIENCE     1381\n",
              "BUSINESS    1381\n",
              "SPORTS      1381\n",
              "CRIME       1381\n",
              "Name: category, dtype: int64"
            ]
          },
          "metadata": {},
          "execution_count": 9
        }
      ]
    },
    {
      "cell_type": "code",
      "source": [
        "df[\"category_num\"] = df.category.map({\n",
        "    \"BUSINESS\":0,\n",
        "    \"SPORTS\":1,\n",
        "    \"CRIME\":2,\n",
        "    \"SCIENCE\":3\n",
        "})\n",
        "\n",
        "df"
      ],
      "metadata": {
        "colab": {
          "base_uri": "https://localhost:8080/",
          "height": 424
        },
        "id": "hBlRh3rnm33C",
        "outputId": "dfa2b8bf-56a4-4eb8-8bda-3458203f7709"
      },
      "execution_count": null,
      "outputs": [
        {
          "output_type": "execute_result",
          "data": {
            "text/plain": [
              "                                                    text  category  \\\n",
              "0      Watching Schrödinger's Cat Die University of C...   SCIENCE   \n",
              "1         WATCH: Freaky Vortex Opens Up In Flooded Lake    SCIENCE   \n",
              "9      Here's Why Coffee Makes You Have To Poop It hi...   SCIENCE   \n",
              "11     Bad News For Trump Is Good News For The Stock ...  BUSINESS   \n",
              "19     ESPN's Interruption Of Dabo Swinney Interview ...    SPORTS   \n",
              "...                                                  ...       ...   \n",
              "12684  Woman Shot By Former Boyfriend At Chicago Nord...     CRIME   \n",
              "12687  Get Even I was in debt. Serious debt. The \"how...  BUSINESS   \n",
              "12689  5-Year-Old Girl Abandoned At NYC Bus Terminal;...     CRIME   \n",
              "12691  This Minivan-Sized Sea Sponge Is Thought To Be...   SCIENCE   \n",
              "12692  RECAP: Dramatic Eclipse Photos Don't miss the ...   SCIENCE   \n",
              "\n",
              "       category_num  \n",
              "0                 3  \n",
              "1                 3  \n",
              "9                 3  \n",
              "11                0  \n",
              "19                1  \n",
              "...             ...  \n",
              "12684             2  \n",
              "12687             0  \n",
              "12689             2  \n",
              "12691             3  \n",
              "12692             3  \n",
              "\n",
              "[5524 rows x 3 columns]"
            ],
            "text/html": [
              "\n",
              "  <div id=\"df-d424691a-df0b-46e5-a21f-0f2dd02fef49\">\n",
              "    <div class=\"colab-df-container\">\n",
              "      <div>\n",
              "<style scoped>\n",
              "    .dataframe tbody tr th:only-of-type {\n",
              "        vertical-align: middle;\n",
              "    }\n",
              "\n",
              "    .dataframe tbody tr th {\n",
              "        vertical-align: top;\n",
              "    }\n",
              "\n",
              "    .dataframe thead th {\n",
              "        text-align: right;\n",
              "    }\n",
              "</style>\n",
              "<table border=\"1\" class=\"dataframe\">\n",
              "  <thead>\n",
              "    <tr style=\"text-align: right;\">\n",
              "      <th></th>\n",
              "      <th>text</th>\n",
              "      <th>category</th>\n",
              "      <th>category_num</th>\n",
              "    </tr>\n",
              "  </thead>\n",
              "  <tbody>\n",
              "    <tr>\n",
              "      <th>0</th>\n",
              "      <td>Watching Schrödinger's Cat Die University of C...</td>\n",
              "      <td>SCIENCE</td>\n",
              "      <td>3</td>\n",
              "    </tr>\n",
              "    <tr>\n",
              "      <th>1</th>\n",
              "      <td>WATCH: Freaky Vortex Opens Up In Flooded Lake</td>\n",
              "      <td>SCIENCE</td>\n",
              "      <td>3</td>\n",
              "    </tr>\n",
              "    <tr>\n",
              "      <th>9</th>\n",
              "      <td>Here's Why Coffee Makes You Have To Poop It hi...</td>\n",
              "      <td>SCIENCE</td>\n",
              "      <td>3</td>\n",
              "    </tr>\n",
              "    <tr>\n",
              "      <th>11</th>\n",
              "      <td>Bad News For Trump Is Good News For The Stock ...</td>\n",
              "      <td>BUSINESS</td>\n",
              "      <td>0</td>\n",
              "    </tr>\n",
              "    <tr>\n",
              "      <th>19</th>\n",
              "      <td>ESPN's Interruption Of Dabo Swinney Interview ...</td>\n",
              "      <td>SPORTS</td>\n",
              "      <td>1</td>\n",
              "    </tr>\n",
              "    <tr>\n",
              "      <th>...</th>\n",
              "      <td>...</td>\n",
              "      <td>...</td>\n",
              "      <td>...</td>\n",
              "    </tr>\n",
              "    <tr>\n",
              "      <th>12684</th>\n",
              "      <td>Woman Shot By Former Boyfriend At Chicago Nord...</td>\n",
              "      <td>CRIME</td>\n",
              "      <td>2</td>\n",
              "    </tr>\n",
              "    <tr>\n",
              "      <th>12687</th>\n",
              "      <td>Get Even I was in debt. Serious debt. The \"how...</td>\n",
              "      <td>BUSINESS</td>\n",
              "      <td>0</td>\n",
              "    </tr>\n",
              "    <tr>\n",
              "      <th>12689</th>\n",
              "      <td>5-Year-Old Girl Abandoned At NYC Bus Terminal;...</td>\n",
              "      <td>CRIME</td>\n",
              "      <td>2</td>\n",
              "    </tr>\n",
              "    <tr>\n",
              "      <th>12691</th>\n",
              "      <td>This Minivan-Sized Sea Sponge Is Thought To Be...</td>\n",
              "      <td>SCIENCE</td>\n",
              "      <td>3</td>\n",
              "    </tr>\n",
              "    <tr>\n",
              "      <th>12692</th>\n",
              "      <td>RECAP: Dramatic Eclipse Photos Don't miss the ...</td>\n",
              "      <td>SCIENCE</td>\n",
              "      <td>3</td>\n",
              "    </tr>\n",
              "  </tbody>\n",
              "</table>\n",
              "<p>5524 rows × 3 columns</p>\n",
              "</div>\n",
              "      <button class=\"colab-df-convert\" onclick=\"convertToInteractive('df-d424691a-df0b-46e5-a21f-0f2dd02fef49')\"\n",
              "              title=\"Convert this dataframe to an interactive table.\"\n",
              "              style=\"display:none;\">\n",
              "        \n",
              "  <svg xmlns=\"http://www.w3.org/2000/svg\" height=\"24px\"viewBox=\"0 0 24 24\"\n",
              "       width=\"24px\">\n",
              "    <path d=\"M0 0h24v24H0V0z\" fill=\"none\"/>\n",
              "    <path d=\"M18.56 5.44l.94 2.06.94-2.06 2.06-.94-2.06-.94-.94-2.06-.94 2.06-2.06.94zm-11 1L8.5 8.5l.94-2.06 2.06-.94-2.06-.94L8.5 2.5l-.94 2.06-2.06.94zm10 10l.94 2.06.94-2.06 2.06-.94-2.06-.94-.94-2.06-.94 2.06-2.06.94z\"/><path d=\"M17.41 7.96l-1.37-1.37c-.4-.4-.92-.59-1.43-.59-.52 0-1.04.2-1.43.59L10.3 9.45l-7.72 7.72c-.78.78-.78 2.05 0 2.83L4 21.41c.39.39.9.59 1.41.59.51 0 1.02-.2 1.41-.59l7.78-7.78 2.81-2.81c.8-.78.8-2.07 0-2.86zM5.41 20L4 18.59l7.72-7.72 1.47 1.35L5.41 20z\"/>\n",
              "  </svg>\n",
              "      </button>\n",
              "      \n",
              "  <style>\n",
              "    .colab-df-container {\n",
              "      display:flex;\n",
              "      flex-wrap:wrap;\n",
              "      gap: 12px;\n",
              "    }\n",
              "\n",
              "    .colab-df-convert {\n",
              "      background-color: #E8F0FE;\n",
              "      border: none;\n",
              "      border-radius: 50%;\n",
              "      cursor: pointer;\n",
              "      display: none;\n",
              "      fill: #1967D2;\n",
              "      height: 32px;\n",
              "      padding: 0 0 0 0;\n",
              "      width: 32px;\n",
              "    }\n",
              "\n",
              "    .colab-df-convert:hover {\n",
              "      background-color: #E2EBFA;\n",
              "      box-shadow: 0px 1px 2px rgba(60, 64, 67, 0.3), 0px 1px 3px 1px rgba(60, 64, 67, 0.15);\n",
              "      fill: #174EA6;\n",
              "    }\n",
              "\n",
              "    [theme=dark] .colab-df-convert {\n",
              "      background-color: #3B4455;\n",
              "      fill: #D2E3FC;\n",
              "    }\n",
              "\n",
              "    [theme=dark] .colab-df-convert:hover {\n",
              "      background-color: #434B5C;\n",
              "      box-shadow: 0px 1px 3px 1px rgba(0, 0, 0, 0.15);\n",
              "      filter: drop-shadow(0px 1px 2px rgba(0, 0, 0, 0.3));\n",
              "      fill: #FFFFFF;\n",
              "    }\n",
              "  </style>\n",
              "\n",
              "      <script>\n",
              "        const buttonEl =\n",
              "          document.querySelector('#df-d424691a-df0b-46e5-a21f-0f2dd02fef49 button.colab-df-convert');\n",
              "        buttonEl.style.display =\n",
              "          google.colab.kernel.accessAllowed ? 'block' : 'none';\n",
              "\n",
              "        async function convertToInteractive(key) {\n",
              "          const element = document.querySelector('#df-d424691a-df0b-46e5-a21f-0f2dd02fef49');\n",
              "          const dataTable =\n",
              "            await google.colab.kernel.invokeFunction('convertToInteractive',\n",
              "                                                     [key], {});\n",
              "          if (!dataTable) return;\n",
              "\n",
              "          const docLinkHtml = 'Like what you see? Visit the ' +\n",
              "            '<a target=\"_blank\" href=https://colab.research.google.com/notebooks/data_table.ipynb>data table notebook</a>'\n",
              "            + ' to learn more about interactive tables.';\n",
              "          element.innerHTML = '';\n",
              "          dataTable['output_type'] = 'display_data';\n",
              "          await google.colab.output.renderOutput(dataTable, element);\n",
              "          const docLink = document.createElement('div');\n",
              "          docLink.innerHTML = docLinkHtml;\n",
              "          element.appendChild(docLink);\n",
              "        }\n",
              "      </script>\n",
              "    </div>\n",
              "  </div>\n",
              "  "
            ]
          },
          "metadata": {},
          "execution_count": 10
        }
      ]
    },
    {
      "cell_type": "code",
      "source": [
        "df[\"pre_processed_text\"] = df.text.apply(preprocess)"
      ],
      "metadata": {
        "id": "617WP5G8u60z"
      },
      "execution_count": null,
      "outputs": []
    },
    {
      "cell_type": "code",
      "source": [
        "df.head()"
      ],
      "metadata": {
        "colab": {
          "base_uri": "https://localhost:8080/",
          "height": 206
        },
        "id": "M1n8FDXVvKGG",
        "outputId": "562c8086-9bd9-4588-a7d6-10f35daf85a6"
      },
      "execution_count": null,
      "outputs": [
        {
          "output_type": "execute_result",
          "data": {
            "text/plain": [
              "                                                 text  category  category_num  \\\n",
              "0   Watching Schrödinger's Cat Die University of C...   SCIENCE             3   \n",
              "1      WATCH: Freaky Vortex Opens Up In Flooded Lake    SCIENCE             3   \n",
              "9   Here's Why Coffee Makes You Have To Poop It hi...   SCIENCE             3   \n",
              "11  Bad News For Trump Is Good News For The Stock ...  BUSINESS             0   \n",
              "19  ESPN's Interruption Of Dabo Swinney Interview ...    SPORTS             1   \n",
              "\n",
              "                                   pre_processed_text  \n",
              "0   watch Schrödinger Cat Die University Californi...  \n",
              "1               WATCH Freaky vortex open Flooded Lake  \n",
              "9                     Coffee make Poop hit minute cup  \n",
              "11  Bad News Trump good News Stock Market slight b...  \n",
              "19  ESPN Interruption Dabo Swinney Interview Frigg...  "
            ],
            "text/html": [
              "\n",
              "  <div id=\"df-a104eb73-5b16-4436-9cb7-455edebedc2e\">\n",
              "    <div class=\"colab-df-container\">\n",
              "      <div>\n",
              "<style scoped>\n",
              "    .dataframe tbody tr th:only-of-type {\n",
              "        vertical-align: middle;\n",
              "    }\n",
              "\n",
              "    .dataframe tbody tr th {\n",
              "        vertical-align: top;\n",
              "    }\n",
              "\n",
              "    .dataframe thead th {\n",
              "        text-align: right;\n",
              "    }\n",
              "</style>\n",
              "<table border=\"1\" class=\"dataframe\">\n",
              "  <thead>\n",
              "    <tr style=\"text-align: right;\">\n",
              "      <th></th>\n",
              "      <th>text</th>\n",
              "      <th>category</th>\n",
              "      <th>category_num</th>\n",
              "      <th>pre_processed_text</th>\n",
              "    </tr>\n",
              "  </thead>\n",
              "  <tbody>\n",
              "    <tr>\n",
              "      <th>0</th>\n",
              "      <td>Watching Schrödinger's Cat Die University of C...</td>\n",
              "      <td>SCIENCE</td>\n",
              "      <td>3</td>\n",
              "      <td>watch Schrödinger Cat Die University Californi...</td>\n",
              "    </tr>\n",
              "    <tr>\n",
              "      <th>1</th>\n",
              "      <td>WATCH: Freaky Vortex Opens Up In Flooded Lake</td>\n",
              "      <td>SCIENCE</td>\n",
              "      <td>3</td>\n",
              "      <td>WATCH Freaky vortex open Flooded Lake</td>\n",
              "    </tr>\n",
              "    <tr>\n",
              "      <th>9</th>\n",
              "      <td>Here's Why Coffee Makes You Have To Poop It hi...</td>\n",
              "      <td>SCIENCE</td>\n",
              "      <td>3</td>\n",
              "      <td>Coffee make Poop hit minute cup</td>\n",
              "    </tr>\n",
              "    <tr>\n",
              "      <th>11</th>\n",
              "      <td>Bad News For Trump Is Good News For The Stock ...</td>\n",
              "      <td>BUSINESS</td>\n",
              "      <td>0</td>\n",
              "      <td>Bad News Trump good News Stock Market slight b...</td>\n",
              "    </tr>\n",
              "    <tr>\n",
              "      <th>19</th>\n",
              "      <td>ESPN's Interruption Of Dabo Swinney Interview ...</td>\n",
              "      <td>SPORTS</td>\n",
              "      <td>1</td>\n",
              "      <td>ESPN Interruption Dabo Swinney Interview Frigg...</td>\n",
              "    </tr>\n",
              "  </tbody>\n",
              "</table>\n",
              "</div>\n",
              "      <button class=\"colab-df-convert\" onclick=\"convertToInteractive('df-a104eb73-5b16-4436-9cb7-455edebedc2e')\"\n",
              "              title=\"Convert this dataframe to an interactive table.\"\n",
              "              style=\"display:none;\">\n",
              "        \n",
              "  <svg xmlns=\"http://www.w3.org/2000/svg\" height=\"24px\"viewBox=\"0 0 24 24\"\n",
              "       width=\"24px\">\n",
              "    <path d=\"M0 0h24v24H0V0z\" fill=\"none\"/>\n",
              "    <path d=\"M18.56 5.44l.94 2.06.94-2.06 2.06-.94-2.06-.94-.94-2.06-.94 2.06-2.06.94zm-11 1L8.5 8.5l.94-2.06 2.06-.94-2.06-.94L8.5 2.5l-.94 2.06-2.06.94zm10 10l.94 2.06.94-2.06 2.06-.94-2.06-.94-.94-2.06-.94 2.06-2.06.94z\"/><path d=\"M17.41 7.96l-1.37-1.37c-.4-.4-.92-.59-1.43-.59-.52 0-1.04.2-1.43.59L10.3 9.45l-7.72 7.72c-.78.78-.78 2.05 0 2.83L4 21.41c.39.39.9.59 1.41.59.51 0 1.02-.2 1.41-.59l7.78-7.78 2.81-2.81c.8-.78.8-2.07 0-2.86zM5.41 20L4 18.59l7.72-7.72 1.47 1.35L5.41 20z\"/>\n",
              "  </svg>\n",
              "      </button>\n",
              "      \n",
              "  <style>\n",
              "    .colab-df-container {\n",
              "      display:flex;\n",
              "      flex-wrap:wrap;\n",
              "      gap: 12px;\n",
              "    }\n",
              "\n",
              "    .colab-df-convert {\n",
              "      background-color: #E8F0FE;\n",
              "      border: none;\n",
              "      border-radius: 50%;\n",
              "      cursor: pointer;\n",
              "      display: none;\n",
              "      fill: #1967D2;\n",
              "      height: 32px;\n",
              "      padding: 0 0 0 0;\n",
              "      width: 32px;\n",
              "    }\n",
              "\n",
              "    .colab-df-convert:hover {\n",
              "      background-color: #E2EBFA;\n",
              "      box-shadow: 0px 1px 2px rgba(60, 64, 67, 0.3), 0px 1px 3px 1px rgba(60, 64, 67, 0.15);\n",
              "      fill: #174EA6;\n",
              "    }\n",
              "\n",
              "    [theme=dark] .colab-df-convert {\n",
              "      background-color: #3B4455;\n",
              "      fill: #D2E3FC;\n",
              "    }\n",
              "\n",
              "    [theme=dark] .colab-df-convert:hover {\n",
              "      background-color: #434B5C;\n",
              "      box-shadow: 0px 1px 3px 1px rgba(0, 0, 0, 0.15);\n",
              "      filter: drop-shadow(0px 1px 2px rgba(0, 0, 0, 0.3));\n",
              "      fill: #FFFFFF;\n",
              "    }\n",
              "  </style>\n",
              "\n",
              "      <script>\n",
              "        const buttonEl =\n",
              "          document.querySelector('#df-a104eb73-5b16-4436-9cb7-455edebedc2e button.colab-df-convert');\n",
              "        buttonEl.style.display =\n",
              "          google.colab.kernel.accessAllowed ? 'block' : 'none';\n",
              "\n",
              "        async function convertToInteractive(key) {\n",
              "          const element = document.querySelector('#df-a104eb73-5b16-4436-9cb7-455edebedc2e');\n",
              "          const dataTable =\n",
              "            await google.colab.kernel.invokeFunction('convertToInteractive',\n",
              "                                                     [key], {});\n",
              "          if (!dataTable) return;\n",
              "\n",
              "          const docLinkHtml = 'Like what you see? Visit the ' +\n",
              "            '<a target=\"_blank\" href=https://colab.research.google.com/notebooks/data_table.ipynb>data table notebook</a>'\n",
              "            + ' to learn more about interactive tables.';\n",
              "          element.innerHTML = '';\n",
              "          dataTable['output_type'] = 'display_data';\n",
              "          await google.colab.output.renderOutput(dataTable, element);\n",
              "          const docLink = document.createElement('div');\n",
              "          docLink.innerHTML = docLinkHtml;\n",
              "          element.appendChild(docLink);\n",
              "        }\n",
              "      </script>\n",
              "    </div>\n",
              "  </div>\n",
              "  "
            ]
          },
          "metadata": {},
          "execution_count": 12
        }
      ]
    },
    {
      "cell_type": "code",
      "source": [],
      "metadata": {
        "id": "I309RrTDvKRj"
      },
      "execution_count": null,
      "outputs": []
    },
    {
      "cell_type": "code",
      "source": [
        "from sklearn.model_selection import train_test_split\n",
        "\n",
        "x_train, x_test, y_train, y_test =  train_test_split(\n",
        "    df.pre_processed_text,\n",
        "    df.category_num,\n",
        "    test_size = 0.2,\n",
        "    random_state=2023,\n",
        "    stratify = df.category_num\n",
        ")"
      ],
      "metadata": {
        "id": "cLiWg-9Vj9hv"
      },
      "execution_count": null,
      "outputs": []
    },
    {
      "cell_type": "code",
      "source": [
        "y_train.value_counts()"
      ],
      "metadata": {
        "colab": {
          "base_uri": "https://localhost:8080/"
        },
        "id": "9F4eoBN3qJWu",
        "outputId": "8cf52878-e36a-4ff3-ef2b-c58c638c3e91"
      },
      "execution_count": null,
      "outputs": [
        {
          "output_type": "execute_result",
          "data": {
            "text/plain": [
              "0    1105\n",
              "1    1105\n",
              "2    1105\n",
              "3    1104\n",
              "Name: category_num, dtype: int64"
            ]
          },
          "metadata": {},
          "execution_count": 14
        }
      ]
    },
    {
      "cell_type": "code",
      "source": [
        "from sklearn.naive_bayes import MultinomialNB\n",
        "from sklearn.pipeline import Pipeline\n",
        "from sklearn.metrics import classification_report\n",
        "vec2=CountVectorizer()\n",
        "model=MultinomialNB()\n",
        "\n",
        "clf = Pipeline([\n",
        "    (\"vectorizer_bow\", vec2),\n",
        "    (\"Multi NB\", model),\n",
        "])\n",
        "\n",
        "clf.fit(x_train, y_train)\n",
        "\n",
        "y_pred = clf.predict(x_test)\n",
        "\n",
        "print(classification_report(y_test, y_pred))"
      ],
      "metadata": {
        "colab": {
          "base_uri": "https://localhost:8080/"
        },
        "id": "8aXYKf4trFH3",
        "outputId": "3a7467e6-38ac-4e47-b4c4-d060b1637943"
      },
      "execution_count": 24,
      "outputs": [
        {
          "output_type": "stream",
          "name": "stdout",
          "text": [
            "              precision    recall  f1-score   support\n",
            "\n",
            "           0       0.83      0.89      0.86       276\n",
            "           1       0.90      0.86      0.88       276\n",
            "           2       0.85      0.92      0.88       276\n",
            "           3       0.92      0.82      0.87       277\n",
            "\n",
            "    accuracy                           0.87      1105\n",
            "   macro avg       0.88      0.87      0.87      1105\n",
            "weighted avg       0.88      0.87      0.87      1105\n",
            "\n"
          ]
        }
      ]
    },
    {
      "cell_type": "code",
      "source": [
        "news = [\n",
        "    \"Two men shot and killed at Johannesburg\",\n",
        "    \"Stock Market Crashing\",\n",
        "    \"Arsenal to beat Tottenham at Europa League\",\n",
        "    \"How Peter Obi spent Easter in detention in London\",\n",
        "    \"Fuel price soars by 81% despite N6tn subsidy payment\",\n",
        "    \"National Assembly proposes jail terms for Ponzi scheme promoters\",\n",
        "    \"How gunmen abducted Kogi monarch, killed female domestic worker - Police\",\n",
        "    \"PDP conducts Bayelsa gov election primaries\",\n",
        "    \"INEC to reset 2,500 BVAS for supplementary polls\",\n",
        "    \"Bidding process for Man United enters third round \",\n",
        "    \"UCL: Napoli confident of victory without Osimhen - Di Lorenzo \",\n",
        "    \"Victory as thirteen men killed on bridge\",\n",
        "    \"Videos of gold nanoparticles snapping together show how some crystals grow \",\n",
        "    \"This sea cucumber shoots sticky tubes out of its butt. Its genes hint at how\",\n",
        "    \"Dense crowds of pedestrians shift into surprisingly orderly lines. Math explains why \"\n",
        "]\n",
        "\n",
        "news_count = vec2.transform([preprocess(i) for i in news])\n",
        "\n",
        "for index, i in enumerate(model.predict(news_count)):\n",
        "  if i == 0:\n",
        "    print(news[index], \" |   BUSINESS NEWS\", \"\\t\\t\\t\\t\", i)\n",
        "  elif i == 1:\n",
        "    print(news[index], \" |   SPORTS NEWS\", \"\\t\\t\\t\\t\", i)\n",
        "  elif i == 2:\n",
        "    print(news[index], \" |   CRIME NEWS\", \"\\t\\t\\t\\t\", i)\n",
        "  elif i == 3:\n",
        "    print(news[index], \" |   SCIENCE NEWS\", \"\\t\\t\\t\\t\", i)"
      ],
      "metadata": {
        "id": "8A-Qa_I2tTpJ",
        "colab": {
          "base_uri": "https://localhost:8080/"
        },
        "outputId": "087375c7-e62a-498e-8dd5-d4f79e00eeef"
      },
      "execution_count": 44,
      "outputs": [
        {
          "output_type": "stream",
          "name": "stdout",
          "text": [
            "Two men shot and killed at Johannesburg  |   CRIME NEWS \t\t\t\t 2\n",
            "Stock Market Crashing  |   BUSINESS NEWS \t\t\t\t 0\n",
            "Arsenal to beat Tottenham at Europa League  |   SPORTS NEWS \t\t\t\t 1\n",
            "How Peter Obi spent Easter in detention in London  |   CRIME NEWS \t\t\t\t 2\n",
            "Fuel price soars by 81% despite N6tn subsidy payment  |   BUSINESS NEWS \t\t\t\t 0\n",
            "National Assembly proposes jail terms for Ponzi scheme promoters  |   BUSINESS NEWS \t\t\t\t 0\n",
            "How gunmen abducted Kogi monarch, killed female domestic worker - Police  |   CRIME NEWS \t\t\t\t 2\n",
            "PDP conducts Bayelsa gov election primaries  |   BUSINESS NEWS \t\t\t\t 0\n",
            "INEC to reset 2,500 BVAS for supplementary polls  |   SCIENCE NEWS \t\t\t\t 3\n",
            "Bidding process for Man United enters third round   |   CRIME NEWS \t\t\t\t 2\n",
            "UCL: Napoli confident of victory without Osimhen - Di Lorenzo   |   SPORTS NEWS \t\t\t\t 1\n",
            "Victory as thirteen men killed on bridge  |   CRIME NEWS \t\t\t\t 2\n",
            "Videos of gold nanoparticles snapping together show how some crystals grow   |   SCIENCE NEWS \t\t\t\t 3\n",
            "This sea cucumber shoots sticky tubes out of its butt. Its genes hint at how  |   SCIENCE NEWS \t\t\t\t 3\n",
            "Dense crowds of pedestrians shift into surprisingly orderly lines. Math explains why   |   SCIENCE NEWS \t\t\t\t 3\n"
          ]
        }
      ]
    },
    {
      "cell_type": "code",
      "source": [
        " "
      ],
      "metadata": {
        "id": "cTnIyDprv30w"
      },
      "execution_count": null,
      "outputs": []
    }
  ]
}